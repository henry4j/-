{
  "cells": [
    {
      "cell_type": "markdown",
      "metadata": {
        "id": "RQ-bYz4u2fO3"
      },
      "source": [
        "Ch 1-10: Array, Strings, Lists, Stacks, Queues, Trees, Graphs, DP, Hard Problems -- [Open in Colab](https://colab.research.google.com/github/henry4j/-/blob/main/episode_1B.ipynb)\n",
        "\n",
        "Python Basics: [data structures](https://docs.python.org/3/tutorial/datastructures.html), [deque](https://docs.python.org/3/library/collections.html#collections.deque), [heapq](https://docs.python.org/3/library/heapq.html), [string methods](https://docs.python.org/3/library/stdtypes.html#string-methods), [itertools](https://docs.python.org/3/library/itertools.html#itertools-recipes), [functools](https://docs.python.org/3/library/functools.html), [match-case](https://www.inspiredpython.com/course/pattern-matching/mastering-structural-pattern-matching), [new python features](https://www.nicholashairs.com/posts/major-changes-between-python-versions/), [python tricks](https://sahandsaba.com/14-more-python-features-and-tricks-you-may-not-know.html)"
      ]
    },
    {
      "cell_type": "code",
      "execution_count": null,
      "metadata": {
        "id": "4F1uYXSCtNOz"
      },
      "outputs": [],
      "source": [
        "# @title import before you begin\n",
        "from functools import lru_cache, partial, reduce\n",
        "from itertools import accumulate, islice, chain, count, pairwise, product, tee\n",
        "from collections import namedtuple, Counter, defaultdict, deque\n",
        "from dataclasses import dataclass\n",
        "from enum import Enum, IntFlag\n",
        "from heapq import heappush, heappop, heapify\n",
        "from typing import Optional, Union\n",
        "from math import *\n",
        "from operator import itemgetter\n",
        "from sys import maxsize as INF  # infinity: 2**63-1.\n",
        "from sys import setrecursionlimit  # 10_000_000(?)\n",
        "import bisect\n",
        "import numpy as np\n",
        "import operator\n",
        "import random\n",
        "import re\n",
        "\n",
        "class peekable:  # just like more_itertools.peekable\n",
        "  def __init__(self, iterable, peeked=None):\n",
        "    self.it, self.peeked = iter(iterable), peeked\n",
        "  def __iter__(self): return self  # for a for-loop.\n",
        "  def __next__(self):\n",
        "    if self.peeked is None:\n",
        "      return next(self.it)\n",
        "    peeked, self.peeked = self.peeked, None\n",
        "    return peeked\n",
        "  def peek(self, default=None):\n",
        "    if self.peeked is None:\n",
        "      try:\n",
        "        self.peeked = next(self.it)\n",
        "      except StopIteration:\n",
        "        return default\n",
        "    return self.peeked\n",
        "\n",
        "  @classmethod\n",
        "  def flatten(cls, iterable):\n",
        "    def iterate():\n",
        "      stack = [iter(iterable)]\n",
        "      while stack:\n",
        "        it = stack.pop()\n",
        "        while (e := next(it, None)) is not None:\n",
        "          if isinstance(e, (list, tuple)):\n",
        "            stack.append(it)\n",
        "            it = iter(e)\n",
        "          else:\n",
        "            yield e\n",
        "\n",
        "    return cls(iterate())\n",
        "\n",
        "Cut = namedtuple(\"Cut\", \"start stop\", defaults=[0, 0])\n",
        "Cut.off = classmethod(lambda cls, stop: cls(start=0, stop=stop))\n",
        "Cut.__abs__ = lambda self: abs(self.stop - self.start)\n",
        "Cut.__int__ = lambda self: self.stop - self.start\n",
        "Cut.__call__ = lambda self, seq: seq[self.start:self.stop]\n",
        "\n",
        "def minima_it(iterable, key=lambda e: e, inverse=False):\n",
        "  it = tee(iterable, 2)\n",
        "  key_it = tee(map(key, it[1]), 2)\n",
        "  min_max = max if inverse else min\n",
        "  min_max_key = min_max(key_it[1], default=None)\n",
        "  yield from (e for key, e in zip(key_it[0], it[0]) if key == min_max_key)\n",
        "\n",
        "def minima(iterable, key=lambda e: e, inverse=False, iterate=False):\n",
        "  iterable = minima_it(iterable, key, inverse)\n",
        "  return iterable if iterate else tuple(iterable)\n",
        "\n",
        "def maxima(iterable, key=lambda e: e):\n",
        "  it = tee(iterable, 2)\n",
        "  key_it = tee(map(key, it[1]), 2)\n",
        "  max_key = max(key_it[1], default=None)\n",
        "  return tuple(e for key, e in zip(key_it[0], it[0]) if key == max_key)\n",
        "\n",
        "maxima = partial(minima, inverse=True)\n",
        "maxima_it = partial(minima_it, inverse=True)\n",
        "recap = lambda kv, k, v: (kv[0] + k, kv[1] + v)\n",
        "\n",
        "def pp(obj):\n",
        "  from collections.abc import Mapping\n",
        "  _prune = lambda v: (\n",
        "      dict.fromkeys(v, \"…\") if isinstance(v, Mapping) else  #\n",
        "      \"…\" if isinstance(v, obj.__class__) else v)\n",
        "\n",
        "  m = len(values := list(_prune(v) for (k, v) in vars(obj).items() if k[0] != \"_\"))\n",
        "  n = next((i for i, e in enumerate(reversed(values)) if e is not None), m)\n",
        "  return f\"{obj.__class__.__name__}({repr(values[:m-n])[1:-1]})\".replace(\"'…'\", \"⋯\")\n",
        "\n",
        "def renumerate(it, stop=None):\n",
        "  return (L := list(it)).reverse() or zip(count(stop or len(L), -1), L)\n",
        "\n",
        "def dedupe(iterable):\n",
        "  seen = set()\n",
        "  for e in iterable:\n",
        "    if e not in seen:\n",
        "      seen.add(e)\n",
        "      yield e\n",
        "\n",
        "class DNode:\n",
        "  def __init__(self, data, prev=None, next_=None):\n",
        "    self.data, self.prev, self.next = data, prev, next_\n",
        "\n",
        "def snode_from_values(SNode, *values):\n",
        "  return reduce(lambda acc, e: SNode(e, acc), reversed(values), None)\n",
        "\n",
        "@dataclass\n",
        "class SNode:\n",
        "  data: int = None\n",
        "  next: \"SNode\" = None\n",
        "  #\n",
        "  def __iter__(self):\n",
        "    L = self\n",
        "    while L:\n",
        "      yield L\n",
        "      L = L.next\n",
        "\n",
        "SNode.from_values = classmethod(snode_from_values)\n",
        "\n",
        "def btree_from_values(BTree, values, start=0, stop=None):\n",
        "  if stop is None:\n",
        "    stop = len(values)\n",
        "  if stop > start:\n",
        "    mid = (start+stop-1)//2  # mid becomes start, when stop-start: 2.\n",
        "    L = btree_from_values(BTree, values, start, mid)\n",
        "    R = btree_from_values(BTree, values, mid+1, stop)\n",
        "    return BTree(values[mid], L, R)\n",
        "\n",
        "class BTree:\n",
        "  def __init__(self, data=None, left=None, right=None, key=None):\n",
        "    lr = (c if isinstance(c, (BTree, type(None))) else BTree(c) for c in (left, right))\n",
        "    self.data, self.left, self.right = data, *lr\n",
        "    self.key = data if key is None else key\n",
        "    self._size = sum(bool(c) and c._size for c in (self.left, self.right))+1\n",
        "    self._x = None\n",
        "\n",
        "def iterate(tree):  # returns an iterator.\n",
        "  stack = []\n",
        "  while tree or stack:\n",
        "    if tree:\n",
        "      stack.append(tree)\n",
        "      tree = tree.left\n",
        "    else:\n",
        "      yield (tree := stack.pop())\n",
        "      tree = tree.right\n",
        "\n",
        "BTree.__repr__ = pp  # yapf:disable\n",
        "BTree.from_values = classmethod(btree_from_values)\n",
        "T = lambda seq: isinstance(seq, list) and list(zip(*seq)) or tuple(zip(*seq))"
      ]
    },
    {
      "cell_type": "markdown",
      "metadata": {
        "id": "OabvYcarCdNW"
      },
      "source": [
        "!! **factorize**, gcd, **primality test** (is prime?), **next_prime** (probabilistic, exact), lcm, etc."
      ]
    },
    {
      "cell_type": "code",
      "execution_count": null,
      "metadata": {
        "id": "kmTueOPaCbbw"
      },
      "outputs": [],
      "source": [
        "def factorize(n, d=2):  # n: dividend, d: divisor\n",
        "  if n==1:\n",
        "    return tuple()\n",
        "  elif n % d==0:\n",
        "    return (d,) + factorize(n // d)\n",
        "  elif n < d**2:\n",
        "    return (n,)\n",
        "  else:\n",
        "    return factorize(n, 3 if d==2 else d+2)\n",
        "\n",
        "def gcd(n, d):  # n: dividend, d: divisor.\n",
        "  while d>0:\n",
        "    n, d = d, n % d\n",
        "  return n\n",
        "\n",
        "def test_primality(n):\n",
        "  if n in {2, 3}:\n",
        "    return True\n",
        "  if n<2 or n % 2==0:\n",
        "    return False\n",
        "  return all(n % d for d in range(3, int(n**0.5)+1, 2))  # not divisible: n % d.\n",
        "\n",
        "def next_prime(n, certainty=5):  # returns when the prob. exceeds 1-0.5 ** certainty.\n",
        "  if n<4:\n",
        "    return max(2, n)  # prime p >=2\n",
        "  if n % 2==0:\n",
        "    n += 1def factorize(n, d=2):  # n: dividend, d: divisor\n",
        "  if n==1:\n",
        "    return tuple()\n",
        "  elif n % d==0:\n",
        "    return (d,) + factorize(n // d)\n",
        "  elif n < d**2:\n",
        "    return (n,)\n",
        "  else:\n",
        "    return factorize(n, 3 if d==2 else d+2)\n",
        "\n",
        "def gcd(n, d):  # n: dividend, d: divisor.\n",
        "  while d>0:\n",
        "    n, d = d, n % d\n",
        "  return n\n",
        "\n",
        "def test_primality(n):\n",
        "  if n in {2, 3}:\n",
        "    return True\n",
        "  if n<2 or n % 2==0:\n",
        "    return False\n",
        "  return all(n % d for d in range(3, int(n**0.5)+1, 2))  # not divisible: n % d.\n",
        "\n",
        "def next_prime(n, certainty=5):  # returns when the prob. exceeds 1-0.5 ** certainty.\n",
        "  if n<4:\n",
        "    return max(2, n)  # prime p >=2\n",
        "  if n % 2==0:\n",
        "    n += 1\n",
        "  for p in range(n, 2 * n):  # prime p exists where n < p <2n-2 when n >1.\n",
        "    for _ in range(certainty):\n",
        "      a = 2 + random.randrange(p-3)  # 2 <= a <= p-2; 2+0 <= a <=2+p-4.\n",
        "      if 1 != a**(p-1) % p:  # rabin miller's primality test.\n",
        "        break\n",
        "    else:\n",
        "      return p\n",
        "\n",
        "lcm = lambda a, b: a * b // gcd(a, b)\n",
        "assert 36 == lcm(2 * 3**2, 2**2 * 3)  # LCM: 2**2 * 3**2.\n",
        "assert [2, 3, 5, 7, 11] == [e for e in range(12) if test_primality(e)]\n",
        "assert [2, 2, 2, 3, 5, 5, 7, 7, 11, 11] == [next_prime(n) for n in range(0, 10)]\n",
        "assert (2, 2, 3) == factorize(12) and (2, 3, 7) == factorize(42)\n",
        "assert (3, 3, 5) == factorize(45) and (3, 5, 5) == factorize(75)\n",
        "  for p in range(n, 2 * n):  # prime p exists where n < p <2n-2 when n >1.\n",
        "    for _ in range(certainty):\n",
        "      a = 2 + random.randrange(p-3)  # 2 <= a <= p-2; 2+0 <= a <=2+p-4.\n",
        "      if 1 != a**(p-1) % p:  # rabin miller's primality test.\n",
        "        break\n",
        "    else:\n",
        "      return p\n",
        "\n",
        "lcm = lambda a, b: a * b // gcd(a, b)\n",
        "assert 36 == lcm(2 * 3**2, 2**2 * 3)  # LCM: 2**2 * 3**2.\n",
        "assert [2, 3, 5, 7, 11] == [e for e in range(12) if test_primality(e)]\n",
        "assert [2, 2, 2, 3, 5, 5, 7, 7, 11, 11] == [next_prime(n) for n in range(0, 10)]\n",
        "assert (2, 2, 3) == factorize(12) and (2, 3, 7) == factorize(42)\n",
        "assert (3, 3, 5) == factorize(45) and (3, 5, 5) == factorize(75)"
      ]
    },
    {
      "cell_type": "code",
      "execution_count": null,
      "metadata": {
        "cellView": "form",
        "id": "qcH8x5q1fRKA"
      },
      "outputs": [],
      "source": [
        "# @title ##### 1.1 Write a program to determine if a string has all unique characters. What if you cannot use additional data structures?\n",
        "def uniq(s) -> bool:  # time: O(n), space(n)\n",
        "  return all(v == 1 for v in histogram(s).values())\n",
        "\n",
        "def histogram(iterable) -> dict:\n",
        "  h = {}\n",
        "  for e in iterable:\n",
        "    h[e] = h.get(e, 0)+1\n",
        "  return h\n",
        "\n",
        "def uniqq(s) -> bool:  # time: o(n^2), space: o(1)\n",
        "  for i_lhs, lhs in enumerate(s):\n",
        "    for i_rhs in range(i_lhs+1, len(s)):\n",
        "      if lhs == s[i_rhs]:\n",
        "        return False\n",
        "  return True\n",
        "\n",
        "assert all([uniq(\"\"), uniq(\"a\"), uniq(\"ab\"), not uniq(\"aa\"), not uniq(\"aba\")])\n",
        "assert all([uniqq(\"\"), uniqq(\"a\"), uniqq(\"ab\")])\n",
        "assert not any([uniqq(\"aa\"), uniqq(\"aba\")])"
      ]
    },
    {
      "cell_type": "code",
      "execution_count": null,
      "metadata": {
        "cellView": "form",
        "id": "_Z8geiDSAu0k"
      },
      "outputs": [],
      "source": [
        "# @title ###### 1.2 Write a program to test if two strings are permutations of each other.\n",
        "def anagram(s1, s2):\n",
        "  if len(s1) != len(s2):\n",
        "    return False\n",
        "  h = Counter(s1)\n",
        "  for e in s2:\n",
        "    if h.get(e, 0) >0:\n",
        "      h[e] -= 1\n",
        "    else:\n",
        "      return False\n",
        "  return True\n",
        "\n",
        "def anagram2(s1, s2):\n",
        "  signature = lambda s: ''.join(sorted(s))\n",
        "  return len(s1) == len(s2) and signature(s1) == signature(s2)\n",
        "\n",
        "def anagram3(s1, s2):\n",
        "  return Counter(s1) == Counter(s2)\n",
        "\n",
        "assert anagram('', '') and anagram('a', 'a') and anagram('ab', 'ba')\n",
        "assert anagram('aab', 'aba') and anagram('aabb', 'abab')\n",
        "assert not anagram('a', '') and not anagram('', 'a')\n",
        "assert not anagram('a', 'b') and not anagram('aa', 'ab')\n",
        "assert anagram2('aab', 'aba') and anagram2('aabb', 'abab')\n",
        "assert anagram3('aab', 'aba') and anagram3('aabb', 'abab')"
      ]
    },
    {
      "cell_type": "code",
      "execution_count": null,
      "metadata": {
        "cellView": "form",
        "id": "QM6kPBHj90Nv"
      },
      "outputs": [],
      "source": [
        "# @title ##### 1.3 Write a program to replace all spaces in a string with %20.\n",
        "def escape_spaces(s):\n",
        "  L, m = list(s), len(s)  # m: input length.\n",
        "  resize(L, n := len(L)+2 * L.count(\" \"), \" \")  # n: output length.\n",
        "  w = n\n",
        "  for r in range(m-1, -1, -1):  # i in [m-1, 0].\n",
        "    buff = \"%20\" if L[r] == \" \" else [L[r]]\n",
        "    w -= len(buff)\n",
        "    L[w:w + len(buff)] = buff\n",
        "  return \"\".join(L)\n",
        "\n",
        "assert \"a%20b%20c%20\" == escape_spaces(\"a b c \")"
      ]
    },
    {
      "cell_type": "code",
      "execution_count": null,
      "metadata": {
        "cellView": "form",
        "id": "zQowyMTPWHE9"
      },
      "outputs": [],
      "source": [
        "# @title ##### 1.4 Write a program to test if a string is a permutation of a palindrome.\n",
        "palindormic = lambda s: sum(v % 2 for v in Counter(s.lower()).values()) <2\n",
        "assert all([palindormic(\"\"), palindormic(\"a\"), palindormic(\"aa\"), palindormic(\"aba\")])\n",
        "assert not any([palindormic(\"ab\"), palindormic(\"abbc\")])"
      ]
    },
    {
      "cell_type": "markdown",
      "metadata": {
        "id": "SnzVeI8Was5U"
      },
      "source": [
        "1.5 Write a program to test if two strings are one or zero edits away from each other (insert, delete, or replace)."
      ]
    },
    {
      "cell_type": "code",
      "execution_count": null,
      "metadata": {
        "id": "T_1jERLDWHLC"
      },
      "outputs": [],
      "source": [
        "def edit(a, b):  # how about this? INS, DEL, SUB = range(1, 4)\n",
        "  def prog(m, n):\n",
        "    if m==0 or n==0:\n",
        "      return (m + n, ((Edit.D,) * m if m>0 else (Edit.I,) * n))\n",
        "    c = int(a[m-1] != b[n-1])  # edit cost: 1 or 0.\n",
        "    cases = (\n",
        "        recap(prog(m-1, n-1), c, ([None, Edit.S][c],)),\n",
        "        recap(prog(m-1, n-0), 1, (Edit.D,)),\n",
        "        recap(prog(m-0, n-1), 1, (Edit.I,)),\n",
        "    )\n",
        "    return min(cases, key=lambda cost_seq: cost_seq[0])\n",
        "\n",
        "  return prog(len(a), len(b))\n",
        "\n",
        "Edit = Enum(\"Edit\", {\"I\": \"Insert\", \"D\": \"Delete\", \"S\": \"Substitute\"})\n",
        "expected = (3, (Edit.S, None, None, None, Edit.S, None, Edit.I))\n",
        "assert expected == edit(\"kitten\", \"sitting\")\n",
        "assert (3, (Edit.D,) * 3) == edit(\"cat\", \"\")\n",
        "assert (3, (Edit.I,) * 3) == edit(\"\", \"sit\")"
      ]
    },
    {
      "cell_type": "code",
      "execution_count": null,
      "metadata": {
        "id": "9g1Pzreblai6"
      },
      "outputs": [],
      "source": [
        "# @title ##### 1.6 Write a method to compress a string using counts of repeated chars, e.g., aabcccccaaa becomes a2b1c5a3.\n",
        "def compressed(s):\n",
        "  s2, m, start = [], len(s), 0\n",
        "  for stop in range(1, m+1):\n",
        "    if stop == m or s[start] != s[stop]:\n",
        "      s2.extend([s[start], str(stop - start)])\n",
        "      start = stop\n",
        "  return \"\".join(s2) if len(s2) < m else s\n",
        "\n",
        "assert \"a2b1c5a3\" == compressed(\"aabcccccaaa\")\n",
        "assert \"abcc\" == compressed(\"abcc\")\n",
        "assert \"abc\" == compressed(\"abc\")\n",
        "assert \"\" == compressed(\"\")"
      ]
    },
    {
      "cell_type": "code",
      "execution_count": null,
      "metadata": {
        "cellView": "form",
        "id": "TGXInA90lalq"
      },
      "outputs": [],
      "source": [
        "# @title ##### 1.7 Given an image represented by an NxN matrix, write a program to rotate the image by 90 degrees; in-place, in O(1) space.\n",
        "def rotate(g):\n",
        "  n = len(g)\n",
        "  for layer in range(n // 2):\n",
        "    head, tail = layer, n-1 - layer\n",
        "    for i in range(head, tail):\n",
        "      top = g[layer][i]\n",
        "      g[layer][i] = g[n-1 - i][head]  # left to top\n",
        "      g[n-1 - i][head] = g[tail][n-1 - i]  # bottom to left\n",
        "      g[tail][n-1 - i] = g[i][tail]  # right to bottom\n",
        "      g[i][tail] = top  # top to right\n",
        "  return g\n",
        "\n",
        "g = [\n",
        "    [1, 2, 3, 4, 5],\n",
        "    [6, 7, 8, 9, 10],\n",
        "    [11, 12, 13, 14, 15],\n",
        "    [16, 17, 18, 19, 20],\n",
        "    [21, 22, 23, 24, 25],\n",
        "]\n",
        "expected = [\n",
        "    [21, 16, 11, 6, 1],\n",
        "    [22, 17, 12, 7, 2],\n",
        "    [23, 18, 13, 8, 3],\n",
        "    [24, 19, 14, 9, 4],\n",
        "    [25, 20, 15, 10, 5],\n",
        "]\n",
        "assert expected == rotate(g)"
      ]
    },
    {
      "cell_type": "code",
      "execution_count": null,
      "metadata": {
        "cellView": "form",
        "id": "MowmI3OQlar-"
      },
      "outputs": [],
      "source": [
        "# @title ##### 1.8 Given an NxN matrix, write a program to set the entire row and column to 0 if an element has a value of 0.\n",
        "def zero_out(g):\n",
        "  m, n = len(g), len(g[0])\n",
        "  rows, columns = set(), set()\n",
        "  for r in range(m):\n",
        "    for c in range(n):\n",
        "      if g[r][c] == 0:\n",
        "        rows.add(r)\n",
        "        columns.add(c)\n",
        "  for r in range(m):\n",
        "    for c in range(n):\n",
        "      if r in rows or c in columns:\n",
        "        g[r][c] = 0\n",
        "  return g\n",
        "\n",
        "g = [[1, 2, 3, 4], [5, 6, 7, 8], [9, 0, 1, 2], [3, 4, 5, 6]]\n",
        "assert [[1, 0, 3, 4], [5, 0, 7, 8], [0, 0, 0, 0], [3, 0, 5, 6]] == zero_out(g)"
      ]
    },
    {
      "cell_type": "code",
      "execution_count": null,
      "metadata": {
        "cellView": "form",
        "id": "cAwyk8Xd0sUl"
      },
      "outputs": [],
      "source": [
        "# @title ##### 1.9 Given two strings, write a program to test if a string is a rotation of the other using isSubstring method.\n",
        "is_rotated = lambda s, t: len(s) == len(t) and (s + s).find(t) > -1\n",
        "assert all([is_rotated(\"x\", \"x\"), is_rotated(\"xy\", \"yx\"), is_rotated(\"xyz\", \"yzx\")])\n",
        "assert not is_rotated(\"xyz\", \"xyx\")"
      ]
    },
    {
      "cell_type": "code",
      "execution_count": null,
      "metadata": {
        "cellView": "form",
        "id": "tn0LTLBa0sXZ"
      },
      "outputs": [],
      "source": [
        "# @title ##### 2.1 Write a program to remove duplicates from an unordered linked list. What if you cannot use additional data structures?\n",
        "def dedup_o_n_time(L):\n",
        "  curr, seen = L, {}\n",
        "  while curr:\n",
        "    if curr.value in seen:\n",
        "      pred.next = curr.next\n",
        "    else:\n",
        "      seen[curr.value], pred = True, curr\n",
        "    curr = curr.next\n",
        "  return L\n",
        "\n",
        "def dedup_o_1_space(L):\n",
        "  lhs = L\n",
        "  while lhs:\n",
        "    pred = lhs  # predecessor of RHS.\n",
        "    while pred.next:\n",
        "      if lhs.value == pred.next.value:\n",
        "        pred.next = pred.next.next\n",
        "      else:\n",
        "        pred = pred.next\n",
        "    lhs = lhs.next\n",
        "  return L\n",
        "\n",
        "L3 = SNode.from_values(1, 2, 3)\n",
        "assert L3 == dedup_o_n_time(SNode.from_values(1, 1, 2, 3, 3))\n",
        "assert L3 == dedup_o_n_time(SNode.from_values(1, 2, 1, 2, 3))\n",
        "assert L3 == dedup_o_1_space(SNode.from_values(1, 1, 2, 3, 3))\n",
        "assert L3 == dedup_o_1_space(SNode.from_values(1, 2, 1, 2, 3))"
      ]
    },
    {
      "cell_type": "code",
      "execution_count": null,
      "metadata": {
        "cellView": "form",
        "id": "AHPkXzMR-aKd"
      },
      "outputs": [],
      "source": [
        "# @title ##### 2.2 Implement an algorithm to find the k-th to last element of a singly linked list.\n",
        "def last(L: SNode, k=0):\n",
        "  p, pk = L, None  # pk points to the k-th last node when p reaches the end.\n",
        "  for _ in range(k):\n",
        "    if p is None:\n",
        "      break\n",
        "    p = p.next\n",
        "  if p:\n",
        "    pk = L\n",
        "    while p.next:\n",
        "      p, pk = p.next, pk.next\n",
        "  return pk\n",
        "\n",
        "L4 = SNode.from_values(*range(4))  # 0, 1, 2, 3\n",
        "assert [3, 2, 0, None] == [(_ := last(L4, k)) and _.value for k in (0, 1, 3, 4)]"
      ]
    },
    {
      "cell_type": "code",
      "execution_count": null,
      "metadata": {
        "id": "d6TjGh0BArvN"
      },
      "outputs": [],
      "source": [
        "# @title ##### 2.3 Given access only to a node, implement an algorithm to delete that node in the middle of a singly linked list."
      ]
    },
    {
      "cell_type": "code",
      "execution_count": null,
      "metadata": {
        "id": "_SJ9onlpArxj",
        "cellView": "form"
      },
      "outputs": [],
      "source": [
        "# @title ##### 2.4 Write a program to partition a linked list around a value of x, such that all nodes less than x come before all nodes greater than or equal to x.\n",
        "def partition(L, x):\n",
        "  def push(pool, curr):\n",
        "    curr.next = pool\n",
        "    return curr\n",
        "  def last(curr):\n",
        "    while curr.next:\n",
        "      curr = curr.next\n",
        "    return curr\n",
        "\n",
        "  lt_x, eq_x, gt_x, = [None], [None], [None]  # 1-element containers.\n",
        "  curr = L\n",
        "  while curr:\n",
        "    next_ = curr.next\n",
        "    pool = lt_x if curr.data < x else gt_x if curr.data > x else eq_x\n",
        "    pool[0] = push(pool[0], curr)\n",
        "    curr = next_\n",
        "  last(lt_x[0]).next, last(eq_x[0]).next = eq_x[0], gt_x[0]\n",
        "  return lt_x[0]\n",
        "\n",
        "L9 = SNode.from_values(9, 3, 8, 2, 5, 6, 1, 7, 4, 5)\n",
        "assert [4, 1, 2, 3, 5, 5, 7, 6, 8, 9] == [e.data for e in partition(L9, 5)]"
      ]
    },
    {
      "cell_type": "markdown",
      "metadata": {
        "id": "q4c-n--IeJZI"
      },
      "source": [
        "2.5. Given two single linked lists where each node has a single digit, write a program that sums them up."
      ]
    },
    {
      "cell_type": "code",
      "execution_count": null,
      "metadata": {
        "id": "VV98fsLdeMq3"
      },
      "outputs": [],
      "source": [
        "def sum_integer_strings(L, R):  # Sum two integers in strings.\n",
        "  L, R = (list(reversed(e)) for e in (L, R))  # becomes a: addend and augend\n",
        "  outcome = []\n",
        "  tens = 0\n",
        "  zero = ord(\"0\")\n",
        "  for i in range(1 + max(len(L), len(R))):\n",
        "    ones = tens\n",
        "    ones += sum(ord(a[i]) - zero for a in (L, R) if i < len(a))\n",
        "    tens, ones = ones // 10, ones % 10\n",
        "    outcome.append(chr(zero + ones))\n",
        "  return \"\".join(reversed(outcome))\n",
        "\n",
        "assert \"1300\" == sum_integer_strings(\"313\", \"987\")"
      ]
    },
    {
      "cell_type": "markdown",
      "metadata": {
        "id": "e8YHyDGfyWQ3"
      },
      "source": [
        "2.6 Write a program to test if a linked list is palindromic.\n",
        "\n",
        "2.7 Given two linked lists that interacts by reference (not value), write a program to return the intersecting node.\n",
        "\n",
        "2.8 Given a linked list, implement an algorithm which returns the node at the beginning of the loop. e.g., INPUT: a -> b -> c -> d -> e -> c, and OUTPUT: c.\n",
        "\n"
      ]
    },
    {
      "cell_type": "markdown",
      "metadata": {
        "id": "Mlcr6zXk0-ib"
      },
      "source": [
        "3.1 How would you design and implement three stacks on a single array."
      ]
    },
    {
      "cell_type": "code",
      "execution_count": null,
      "metadata": {
        "id": "SId2NkJ7Ar0U"
      },
      "outputs": [],
      "source": [
        "# @title ###### 3.2 Design a stack that has **min** method that returns the minimum in addition to push and pop methods. Push, pop, and min should all operate in O(1) time.\n",
        "class MinStack:\n",
        "  def __init__(self):\n",
        "    self.minimum, self.stack = None, []\n",
        "  def push(self, e):\n",
        "    if self.minimum is None or e <= self.minimum:\n",
        "      self.stack.append(self.minimum)  # saves the previous minimum.\n",
        "      self.minimum = e\n",
        "    self.stack.append(e)\n",
        "    return self\n",
        "  def pop(self):\n",
        "    if (e := self.stack.pop()) == self.minimum:\n",
        "      self.minimum = self.stack.pop()\n",
        "    return e\n",
        "\n",
        "S = MinStack().push(2).push(3).push(2).push(1)\n",
        "assert 1 == S.minimum and 1 == S.pop()\n",
        "assert 2 == S.minimum and 2 == S.pop()\n",
        "assert 2 == S.minimum and 3 == S.pop()\n",
        "assert 2 == S.minimum and 2 == S.pop()\n",
        "assert S.minimum is None"
      ]
    },
    {
      "cell_type": "markdown",
      "metadata": {
        "id": "jyguuHrX5dpb"
      },
      "source": [
        "3.3 Imagine a literal stack of plates. If the stack gets too high, it might topple. Therefore, in real life, we would likely start a new stack when the previous stack exceeds some threshold. Implement a data structure SetOfStacks that mimics this. SetOfStacks should be composed of several stacks and should create a new stack once the previous one exceeds capacity. SetOfStacks.push() and SetOfStacks.pop() should behave identically to a single stack (that is, pop() should return the same values as it would if there were just a single stack). Implement a function popAt(int index) which performs a pop operation on a specific sub-stack."
      ]
    },
    {
      "cell_type": "code",
      "execution_count": null,
      "metadata": {
        "cellView": "form",
        "id": "fGepEoTx3BQN"
      },
      "outputs": [],
      "source": [
        "# @title ##### 3.5 Design a queue using two stacks.\n",
        "class Q:  # debug with repr: Q.__repr__ = __repr__\n",
        "  def __init__(self, inbox=[], outbox=[]):\n",
        "    self.inbox, self.outbox = inbox, outbox\n",
        "  def offer(self, E):  # E: element.\n",
        "    self.inbox.append(E)\n",
        "    return self\n",
        "  def poll(self):\n",
        "    if not self.outbox:\n",
        "      while self.inbox:\n",
        "        self.outbox.append(self.inbox.pop())\n",
        "    return self.outbox.pop() if self.outbox else None\n",
        "\n",
        "(q := Q()).offer(1).offer(2)\n",
        "assert 1 == q.poll() and q.offer(3) is q\n",
        "assert (2, 3, None) == tuple(q.poll() for _ in range(3))"
      ]
    },
    {
      "cell_type": "code",
      "execution_count": null,
      "metadata": {
        "id": "t_O89zJM3BS7"
      },
      "outputs": [],
      "source": [
        "# @title ##### 3.6 Write a program to sort a stack so the largest elements are at the top. You may use additional stacks to hold items, but you may not copy the elements into any other data structure such as an array. The stack supports the following operations: push, pop, peek, and isEmpty.\n",
        "def sort(S):  # a = [1, 2, 9, 8, 3, 4]\n",
        "  L = []\n",
        "  while S:\n",
        "    e = S.pop()\n",
        "    while L and L[-1] > e:\n",
        "      S.append(L.pop())\n",
        "    L.append(e)\n",
        "  S.extend(L)\n",
        "  return S\n",
        "\n",
        "assert [1, 2, 3, 4, 5] == sort([1, 2, 5, 3, 4])"
      ]
    },
    {
      "cell_type": "markdown",
      "metadata": {
        "id": "2F2k8gvnDGf5"
      },
      "source": [
        "3.7 An animal shelter holds only dogs and cats, and operations on a strictly \"first in, first out\" basis. People must adopt either the oldest (based on the arrival time) of all animals at the shelter, or they can select whether they would prefer a dog or a cat (and will receive the oldest animal of that type). They cannot select which speicific animal they would like. Create the data structures to maintain this system and implement operations such as enqueue, dequeueAny, dequeueDog, and dequeueCat. You may use the LinkedList data structure."
      ]
    },
    {
      "cell_type": "code",
      "execution_count": null,
      "metadata": {
        "cellView": "form",
        "id": "iDFupyKTgbq1"
      },
      "outputs": [],
      "source": [
        "# @title ##### def optimal_tour(g):\n",
        "def optimal_tour(g):  # TSP http://www.youtube.com/watch?v=aQB_Y9D5pdw\n",
        "  def popped(s, i):\n",
        "    l = list(s)\n",
        "    l.pop(i)\n",
        "    return tuple(l)\n",
        "\n",
        "  # g(v, set) is min([g[v, e] + g(e, set-{e}) for e in set])\n",
        "  def mapped(v, s, memos={}):\n",
        "    @lru_cache(maxsize=None)\n",
        "    def computed(v, s):\n",
        "      if s:\n",
        "        return min(((w, g[v][w] + mapped(w, popped(s, i))[1])\n",
        "                    for i, w in enumerate(s)\n",
        "                    if g[v][w] != inf),\n",
        "                   key=lambda e: e[1])\n",
        "      else:\n",
        "        return (None, inf) if g[v][0] is inf else (0, g[v][0])\n",
        "\n",
        "    return computed(v, s)\n",
        "\n",
        "  return mapped(0, tuple(range(1, len(g))))\n",
        "\n",
        "g = [\n",
        "    [0, 10, 15, 20],\n",
        "    [5,  0,  9, 10],\n",
        "    [6, 13,  0, 12],\n",
        "    [8,  8,  9,  0]\n",
        "]  # yapf:disable\n",
        "assert (1, 35) == optimal_tour(g)"
      ]
    },
    {
      "cell_type": "code",
      "execution_count": null,
      "metadata": {
        "cellView": "form",
        "id": "qOUi1IiLEpM_"
      },
      "outputs": [],
      "source": [
        "# @title ##### Find the shortest paths between all pairs of vertices, [floyd-Warshall](https://en.wikipedia.org/wiki/floyd-Warshall_algorithm).\n",
        "g = [  #\n",
        "    [0, inf, -2, inf],\n",
        "    [4, 0, 3, inf],\n",
        "    [inf, inf, 0, 2],\n",
        "     [inf, -1, inf, 0]\n",
        "]  # yapf: disable\n",
        "expected = [\n",
        "    [0, -1, -2, 0],\n",
        "    [4,  0,  2, 4],\n",
        "    [5,  1,  0, 2],\n",
        "    [3, -1,  1, 0]\n",
        "]  # yapf: disable\n",
        "\n",
        "def floyd_warshall(graph):  # https://en.wikipedia.org/wiki/floyd-Warshall_algorithm\n",
        "  d = [r[:] for r in g]  # distance matrix: a deep copy of n x n matrix.\n",
        "  for k in range(n := len(graph)):  # graph: n x n matrix.\n",
        "    for i in range(n):\n",
        "      for j in range(n):\n",
        "        d[i][j] = min(d[i][j], d[i][k] + d[k][j])\n",
        "  return d\n",
        "\n",
        "assert expected == floyd_warshall(g)"
      ]
    },
    {
      "cell_type": "markdown",
      "metadata": {
        "id": "bWUNznaCU1Mt"
      },
      "source": [
        "!! **vertex-color, edge-color** Given a list of 1:1 meetings, find the minimum number of time slots for scheduling them all. No one can be in more than one meeting a time."
      ]
    },
    {
      "cell_type": "code",
      "execution_count": null,
      "metadata": {
        "id": "m36TRoQfYidQ"
      },
      "outputs": [],
      "source": [
        "def color_vertex(g):  # yield a tuple (chromatic index, color sequence).\n",
        "  def backtrack(color_seq):\n",
        "    if len(color_seq) == len(g):\n",
        "      yield tuple(color_seq)\n",
        "    else:\n",
        "      for color in expand_out(color_seq):  # color c may be an old color, or a new one.\n",
        "        color_seq.append(color)\n",
        "        yield from backtrack(color_seq)\n",
        "        color_seq.pop()\n",
        "  def within_bounds_n_limits(color_seq, c):  # is color c within constraints?\n",
        "    v = len(color_seq)\n",
        "    return all([not g[v0][v] or c0 != c for v0, c0 in enumerate(color_seq)])\n",
        "  def expand_out(color_seq):  #\n",
        "    assert len(color_seq) < len(g)\n",
        "    yield from chain(\n",
        "        (c for c in set(color_seq) if within_bounds_n_limits(color_seq, c)),\n",
        "        [chromatic(color_seq)])\n",
        "\n",
        "  chromatic = lambda color_seq: max(color_seq)+1\n",
        "  yield from ((chromatic(e), e) for e in backtrack([0]))\n",
        "\n",
        "# a0 - b1\n",
        "# |    |\n",
        "# c2 - d3 - e4\n",
        "G = [\n",
        "    [0, 1, 1, 0, 0],\n",
        "    [1, 0, 0, 1, 0],\n",
        "    [1, 0, 0, 1, 0],\n",
        "    [0, 1, 1, 0, 1],\n",
        "    [0, 0, 0, 1, 0],\n",
        "]\n",
        "# (3, (0, 1, 1, ...)): color: chromatic index 3, color sequence: (0, 1, 1, ...).\n",
        "# assert [(2, (0, 1, 1, 0, 1))] ==\n",
        "min(color_vertex(G), key=lambda e: e[0])"
      ]
    },
    {
      "cell_type": "markdown",
      "metadata": {
        "id": "kZ32ZZJInStT"
      },
      "source": [
        "!! **iterate, riterate a binary search tree** using a stack; iterative inorder traversal without recursion."
      ]
    },
    {
      "cell_type": "code",
      "execution_count": null,
      "metadata": {
        "id": "sdmxH45qpMR6"
      },
      "outputs": [],
      "source": [
        "def riterate(tree):  # returns a reverse iterator.\n",
        "  stack = []\n",
        "  while tree or stack:\n",
        "    if tree:\n",
        "      stack.append(tree)\n",
        "      tree = tree.right\n",
        "    else:\n",
        "      yield (tree := stack.pop())\n",
        "      tree = tree.left\n",
        "\n",
        "L = BTree(3, BTree(2, BTree(1, BTree(0))))\n",
        "R = BTree(8, BTree(5, None, BTree(7, BTree(6))), BTree(9))\n",
        "t10 = BTree(4, L, R)\n",
        "assert list(range(10)) == list(tree.key for tree in iterate(t10))\n",
        "assert [9, 8] == list(e.key for e in islice(riterate(t10), 2))\n",
        "assert [8, 7] == list(e.key for e in islice(riterate(t10), 1, 3))\n",
        "assert [8, 6, 4] == list(e.key for e in islice(riterate(t10), 1, 6, 2))"
      ]
    },
    {
      "cell_type": "markdown",
      "metadata": {
        "id": "5pd8bd04yIS2"
      },
      "source": [
        "!! **acyclic or cyclic** Find a cycle if one exists? Detect a deadlocked if one exists?\n",
        "\n",
        "* undirected: it is a tree if the undirected graph is connected and has n - 1 edges for n vertices.\n",
        "* directed: a directed acyclic graph has no back edges; a cyclic graph has back edges."
      ]
    },
    {
      "cell_type": "code",
      "execution_count": null,
      "metadata": {
        "id": "1U0cYjzsLPQe"
      },
      "outputs": [],
      "source": [
        "def find_cycles(G, directed=False):  # G: graph either directed, or undirected.\n",
        "  def dfs(v, entered, exited, directed, parent):\n",
        "    if v not in entered:\n",
        "      entered.add(v)\n",
        "      for w in G[v]:\n",
        "        if w not in entered:\n",
        "          yield from dfs(w, entered, exited, directed, v)\n",
        "        elif directed and w not in exited:  # a back edge, unless w is exited.\n",
        "          yield (v, w)\n",
        "        elif not directed and parent != w:  # a back edge, unless w is a parent.\n",
        "          yield (v, w)\n",
        "      exited.add(v)\n",
        "\n",
        "  entered, exited = set(), set()\n",
        "  yield from (cycle  #\n",
        "              for v in G  #\n",
        "              for cycle in dfs(v, entered, exited, directed, parent=None))\n",
        "\n",
        "\"\"\"graph:\n",
        "A0 →  C2 → E4\n",
        "↓  ↗  ↓   ↗\n",
        "B1 .  D3\"\"\"\n",
        "a, b, c, d, e = range(5)\n",
        "g = {\n",
        "  a: {b, c},\n",
        "  b: {c},\n",
        "  c: {d, e},\n",
        "  d: {e},\n",
        "  e: {}\n",
        "}  # yapf:disable\n",
        "assert not next(find_cycles(g, True), None)\n",
        "\n",
        "g[a] = {b}\n",
        "g[c] = {a, d, e}  # this change implants a cycle.\n",
        "assert [(2, 0)] == list(find_cycles(g, True))\n",
        "\n",
        "# undirected graph: A0 - B1 - C2\n",
        "a, b, c = range(3)\n",
        "g2 = {a: {b}, b: {a, c}, c: {b}}\n",
        "assert not next(find_cycles(g2, False), None)\n",
        "\n",
        "# undirected graph: A0 - B1 - C2 - A0\n",
        "g2[a].add(c)\n",
        "g2[c].add(a)\n",
        "assert [(2, 0), (0, 2)] == list(find_cycles(g2, False))"
      ]
    },
    {
      "cell_type": "markdown",
      "metadata": {
        "id": "Fu8ocwhkjex2"
      },
      "source": [
        "!! **topological sort, reachable, connected components**\n",
        "\n",
        "4.7 Given a set of projects and their dependencies. Find a build order that ensures each project is built only after its dependencies are built.  \n",
        "4.1 Given a directed graph, design an algorithm to find whether there is a route between two nodes."
      ]
    },
    {
      "cell_type": "code",
      "execution_count": null,
      "metadata": {
        "id": "ov4oxNjuw2TF"
      },
      "outputs": [],
      "source": [
        "# E = Edge = namedtuple(\"Edge\", \"w v weight\", defaults=[-1, 0])  # v to w edge.\n",
        "E = Edge = namedtuple(\"Edge\", \"w v\", defaults=[-1])  # v to w edge.\n",
        "E.replace = E._replace\n",
        "OP = OpCode = IntFlag(\"OpCode\", \"ENTER CROSS EXIT\")\n",
        "\n",
        "def dfs(graph, initial_edge, entered=None):  # initial_edge, also called start_edge.\n",
        "  if entered is None:\n",
        "    entered = set()\n",
        "  if (v0 := initial_edge.w) not in entered:\n",
        "    entered.add(v0)\n",
        "    yield OP.ENTER, initial_edge\n",
        "    for edge in graph[v0] or []:\n",
        "      yield OP.CROSS, (edge := edge._replace(v=v0))\n",
        "      yield from dfs(graph, edge, entered)\n",
        "    yield OP.EXIT, initial_edge\n",
        "\n",
        "def topological_sort(graph):\n",
        "  entered = set()\n",
        "  for v, _ in enumerate(graph):\n",
        "    if v not in entered:\n",
        "      yield from (\n",
        "          edge.w for op, edge in dfs(graph, Edge(v, -1), entered) if op == OP.EXIT)\n",
        "\n",
        "def can_reach(graph, source, sink) -> bool:\n",
        "  return any(edge.w == sink for op, edge in dfs(graph, Edge(source)) if op == OP.CROSS)\n",
        "\n",
        "# graph: .  .  D3 ⇾ H7\n",
        "#  .  .  .  .  ↑\n",
        "#   ┌───────── B1 ⇾ F5\n",
        "#   ↓  .  .  . ↑  .  ↑\n",
        "#   J9 ⇽ E4 ⇽ A0 ⇾ C2 ⇾ I8\n",
        "#   ↓\n",
        "#   G6\n",
        "graph = [  #\n",
        "    [Edge(1), Edge(2), Edge(4), Edge(6)],  # 1, 2, 4, and 6 depend on 0.\n",
        "    [Edge(3), Edge(5), Edge(9)],  # 3, 5, and 9 depend on 1.\n",
        "    [Edge(5), Edge(8)],  # 5, 8 depend on 2.\n",
        "    [Edge(7)],  # 7 depend on 3.\n",
        "    [Edge(9)],  # 9 depend on 4.\n",
        "    *([[]] * 5),\n",
        "]\n",
        "stack = [7, 3, 5, 9, 1, 8, 2, 4, 6, 0]  # task 0 be completed before task 6.\n",
        "assert stack == list(topological_sort(graph))\n",
        "assert all(can_reach(graph, source, 9) for source in (0, 1, 4))\n",
        "assert not any(can_reach(graph, source, 0) for source in range(4))"
      ]
    },
    {
      "cell_type": "code",
      "execution_count": null,
      "metadata": {
        "cellView": "form",
        "id": "yLrHnuB8IE-v"
      },
      "outputs": [],
      "source": [
        "# @title ##### 4.2 Given a sorted (increasing order) array, design an algorithm to create a binary search tree with the minimal height.\n",
        "# tree:  2\n",
        "#      /  \\\n",
        "#     1    3\n",
        "#           4\n",
        "t4 = BTree.from_values((1, 2, 3, 4))\n",
        "assert \"BTree(2, BTree(1), BTree(3, None, BTree(4)))\" == repr(t4)"
      ]
    },
    {
      "cell_type": "code",
      "execution_count": null,
      "metadata": {
        "cellView": "form",
        "id": "C8wTus_PJ8nL"
      },
      "outputs": [],
      "source": [
        "# @title ##### 4.3 Given a binary tree, design an algorithm to creates a linked list of all the nodes at each depth, e.g., if you have a tree with depth D, you will have D linked lists.\n",
        "def to_d_linked_lists(tree):  # tree of depth d.\n",
        "  LL = []  # output: a list of lists.\n",
        "  q = [tree]\n",
        "  while q:\n",
        "    p = []\n",
        "    for i, e in enumerate(q):\n",
        "      for c in (e.left, e.right):\n",
        "        if c:\n",
        "          p.append(c)\n",
        "      e.left = None if i == 0 else q[i - 1]\n",
        "      e.right = q[i + 1] if i < len(q) else None\n",
        "    LL.append(q[0])\n",
        "    q = p\n",
        "  return LL"
      ]
    },
    {
      "cell_type": "code",
      "execution_count": null,
      "metadata": {
        "id": "zwgwDKUUR35l"
      },
      "outputs": [],
      "source": [
        "# @title ##### 4.4 Implement a function to check if a binary tree is balanced. For the purposes of this question, a balanced tree is defined to be a tree such that the heights of two subtrees of any node never differ by more than one.\n",
        "# tree: a\n",
        "# . .  /   \\\n",
        "# .   b  .  f\n",
        "#   c  e   g\n",
        "#  d\n",
        "c = BTree(\"c\", BTree(\"d\"))\n",
        "e = BTree(\"e\")\n",
        "b = BTree(\"b\", c, e)\n",
        "a = BTree(\"a\", b, BTree(\"f\"))\n",
        "\n",
        "def is_balanced(tree):  # returns (balanced, height)\n",
        "  if tree is None:\n",
        "    return (True, -1)\n",
        "  L, R = is_balanced(tree.left), is_balanced(tree.right)\n",
        "  b = L[0] and R[0] and abs(L[1] - R[1]) <2\n",
        "  h = 1 + max(L[1], R[1])\n",
        "  return (b, h)\n",
        "\n",
        "assert not is_balanced(a)[0]\n",
        "a.right.left = BTree(\"g\")\n",
        "assert (True, 3) == is_balanced(a)  # balanced, height: 3."
      ]
    },
    {
      "cell_type": "code",
      "execution_count": null,
      "metadata": {
        "id": "OL8YfnRmR38D"
      },
      "outputs": [],
      "source": [
        "# @title ##### 4.5 Implement a function to check if a binary tree is a binary search tree.\n",
        "def iterate_(tree):\n",
        "  if tree:\n",
        "    yield from chain(iterate_(tree.left), (tree,), iterate_(tree.right))\n",
        "\n",
        "def is_ordered(tree):\n",
        "  if pred := next(it := iterate_(tree), None):\n",
        "    for e in it:\n",
        "      if e.data < pred.data:\n",
        "        return False\n",
        "      else:\n",
        "        pred = e\n",
        "  return True\n",
        "\n",
        "def ordered(tree):  # returns (ordered, min, max)\n",
        "  if tree is None:\n",
        "    return (True, None, None)\n",
        "  L, R = ordered(tree.left), ordered(tree.right)\n",
        "  O = (L[0] and R[0]\n",
        "       and (L[2] is None or L[2] <= tree.data)\n",
        "       and (R[1] is None or R[1] >= tree.data))  # yapf:disable\n",
        "  min_ = tree.data if L[1] is None else L[1]\n",
        "  max_ = tree.data if R[2] is None else R[2]\n",
        "  return (O, min_, max_)\n",
        "\n",
        "b7 = BTree.from_values([1, 2, 3, 4, 5, 6, 7])\n",
        "assert is_ordered(b7)\n",
        "assert ordered(b7)[0]\n",
        "assert not ordered(BTree.from_values((1, 2, 3, 4, 0, 6, 7)))[0]"
      ]
    },
    {
      "cell_type": "code",
      "execution_count": null,
      "metadata": {
        "id": "a2PthG1ZQ2xW"
      },
      "outputs": [],
      "source": [
        "# @title ##### 4.6 Design an algorithm to find the next node (i.e., successor in-order) of a node in a binary search tree. You may assume that each node has a link to its parents.\n",
        "# tree: .  z\n",
        "#  .  .  u\n",
        "#  .  .  . v\n",
        "#  .  .  .   y\n",
        "#  .  .  . x\n",
        "#  .  .  w\n",
        "w = BTree(\"w\")\n",
        "x = BTree(\"x\", w)\n",
        "y = BTree(\"y\", x)\n",
        "v = BTree(\"v\", None, y)\n",
        "u = BTree(\"u\", None, v)\n",
        "z = BTree(\"z\", u)\n",
        "\n",
        "def set_parent(tree):  # set value fields on the children/descendants.\n",
        "  tree._parent = None\n",
        "  stack = []\n",
        "  while tree or stack:\n",
        "    if tree:\n",
        "      stack.append(tree)\n",
        "      if tree.left:\n",
        "        tree.left._parent = tree\n",
        "      tree = tree.left\n",
        "    else:\n",
        "      tree = stack.pop()\n",
        "      if tree.right:\n",
        "        tree.right._parent = tree\n",
        "      tree = tree.right\n",
        "\n",
        "def succ(node):\n",
        "  if node is None:\n",
        "    raise RuntimeError(\"'node' must be non-null.\")\n",
        "  if node.right:\n",
        "    node = node.right\n",
        "    while node.left:\n",
        "      node = node.left\n",
        "    return node\n",
        "  else:\n",
        "    while node._parent and node == node._parent.right:\n",
        "      node = node._parent\n",
        "    return node._parent\n",
        "\n",
        "set_parent(z)\n",
        "assert (v, w, x, y, z, None) == tuple(succ(tree) for tree in (u, v, w, x, y, z))"
      ]
    },
    {
      "cell_type": "code",
      "execution_count": null,
      "metadata": {
        "cellView": "form",
        "id": "mVVpnSg7DNWz"
      },
      "outputs": [],
      "source": [
        "# @title ##### 4.8 Design an algorithm to find the first common ancestor of the nodes in a binary tree. Avoid storing additional nodes in a data structure. Note: this is not necessarily a binary search tree.\n",
        "def is_subtree(tree, subtree):\n",
        "  return (\n",
        "    tree == subtree\n",
        "    or tree\n",
        "    and (is_subtree(tree.left, subtree) or is_subtree(tree.right, subtree))\n",
        "  )\n",
        "\n",
        "def lowest_common_ancestor(tree, p, q):\n",
        "  if is_subtree(tree, p) and is_subtree(tree, q):\n",
        "    while tree:\n",
        "      if tree is p or tree is q:\n",
        "        return tree\n",
        "      p_on_left = is_subtree(tree.left, p)\n",
        "      q_on_left = is_subtree(tree.left, q)\n",
        "      if p_on_left != q_on_left:\n",
        "        return tree\n",
        "      tree = tree.left if p_on_left else tree.right\n",
        "\n",
        "def lowest_common_ancestor2(tree, p, q):  # returns (count, LCA)\n",
        "  if tree is None:\n",
        "    return (None, 0)\n",
        "  count = (p, q).count(tree)\n",
        "  if count == 2:\n",
        "    return (tree, 2)\n",
        "  l = lowest_common_ancestor2(tree.left, p, q)\n",
        "  if l[1] == 2:\n",
        "    return l\n",
        "  r = lowest_common_ancestor2(tree.right, p, q)\n",
        "  if r[1] == 2:\n",
        "    return r\n",
        "  count += l[1] + r[1]\n",
        "  return (tree if count == 2 else None, count)\n",
        "\n",
        "# tree:.   a\n",
        "#  .  .  /   \\\n",
        "#  .   b  .   f\n",
        "#  .  c  e  g\n",
        "#   d\n",
        "d = BTree(\"d\")\n",
        "c = BTree(\"c\", d)\n",
        "e = BTree(\"e\")\n",
        "b = BTree(\"b\", c, e)\n",
        "a = BTree(\"a\", b, BTree(\"f\", BTree(\"g\")))\n",
        "assert is_subtree(a, a)\n",
        "assert is_subtree(a, a.left) and is_subtree(a, a.left.right)\n",
        "assert is_subtree(a, a.right) and is_subtree(a, a.right.left)\n",
        "assert b == lowest_common_ancestor(a, d, e)\n",
        "assert b == lowest_common_ancestor2(a, d, e)[0]"
      ]
    },
    {
      "cell_type": "code",
      "execution_count": null,
      "metadata": {
        "id": "v4KJp9EnNvx_"
      },
      "outputs": [],
      "source": [
        "# @title ##### 4.9 Given a binary search tree that was reconstructed from an array of integers, find all the possible arrays that could have led to this binary search tree.\n",
        "def weave(L, R):\n",
        "  @lru_cache(maxsize=None)\n",
        "  def prog(m, n):\n",
        "    if m==0 or n==0:\n",
        "      yield L[:m] + R[:n]\n",
        "    else:\n",
        "      yield from chain(\n",
        "          (e + [L[m-1]] for e in prog(m-1, n)),\n",
        "          (e + [R[n-1]] for e in prog(m, n-1)),\n",
        "      )\n",
        "\n",
        "  yield from prog((m := len(L)), (n := len(R)))\n",
        "\n",
        "def destruct(tree: BTree):\n",
        "  if tree is None:\n",
        "    yield []\n",
        "  else:\n",
        "    yield from ([tree.data] + e\n",
        "                for L in destruct(tree.left)\n",
        "                for R in destruct(tree.right)\n",
        "                for e in weave(L, R))\n",
        "\n",
        "T5 = BTree(4, BTree(1, None, BTree(3, BTree(2))), BTree(5))\n",
        "expected = ([4, 5, 1, 3, 2], [4, 1, 5, 3, 2], [4, 1, 3, 5, 2], [4, 1, 3, 2, 5])\n",
        "assert expected == tuple(destruct(T5))"
      ]
    },
    {
      "cell_type": "markdown",
      "metadata": {
        "id": "RsnOk-JghwUV"
      },
      "source": [
        "!! **serialize, deserialize, preorder, bfs**\n",
        "\n",
        "4.10 You have two very large binary trees: T1 with millions of nodes, and T2 with hundreds of nodes. Design an algorithm to decide if T2 is a subtree of T1. A tree T2 is a subtree of T1 if there exists a node in T1 such that the subtree of n is identical to T2. i.e., if you cut off the tree at node n, the two trees would be identical."
      ]
    },
    {
      "cell_type": "code",
      "execution_count": null,
      "metadata": {
        "id": "8VAo7qwjuz5a"
      },
      "outputs": [],
      "source": [
        "def search_btree(tree, query, fill_value=BTree(-1)):  # query: a subtree.\n",
        "  needle = deque(e.data for e in preorder(query, fill_value))\n",
        "  m = len(needle)\n",
        "  it = tee(preorder(tree, fill_value))\n",
        "  haystack = deque((e.data for e in islice(it[0], m-1)), maxlen=m)\n",
        "  for tree_in, tree_out in zip(it[0], it[1]):  # tree_out: m-1 steps ahead.\n",
        "    haystack.append(tree_in.data)\n",
        "    if haystack == needle:\n",
        "      yield tree_out  # note: it[1] is m-1 steps behind it[0].\n",
        "\n",
        "def preorder_quick(tree, fill_tree=None):  # fill_value, e.g. BTree(-1)\n",
        "  stack = [tree]\n",
        "  while stack:\n",
        "    tree = stack.pop()\n",
        "    if tree:\n",
        "      yield tree\n",
        "      stack.extend((tree.right, tree.left))\n",
        "    elif fill_tree:\n",
        "      yield fill_tree\n",
        "\n",
        "def preorder(tree, fill_tree=None):\n",
        "  if tree:\n",
        "    yield tree\n",
        "    yield from preorder(tree.left, fill_tree)\n",
        "    yield from preorder(tree.right, fill_tree)\n",
        "  elif fill_tree:\n",
        "    yield fill_tree\n",
        "\n",
        "def btree_from_preorder_data(iterable, fill_data=None):  # fill_data, e.g., -1\n",
        "  def proc():\n",
        "    if (data := next(it, fill_data)) != fill_data:\n",
        "      return BTree(data, proc(), proc())\n",
        "\n",
        "  it = iter(iterable)\n",
        "  return proc()\n",
        "\n",
        "# tree:  4\n",
        "#      /   \\\n",
        "#     3     8\n",
        "#    /     /  \\\n",
        "#   2     5    9\n",
        "#  1       7\n",
        "# 0       6\n",
        "# n.b.: t4 has two instances of t5 subtree.\n",
        "t5 = BTree(5, None, BTree(7, BTree(6)))\n",
        "t3 = BTree(3, BTree(2, BTree(1, BTree(0, t5))))\n",
        "t8 = BTree(8, t5, BTree(9))\n",
        "t4 = BTree(4, t3, t8)\n",
        "assert (5, 5) == tuple(e.data for e in search_btree(t4, t5))\n",
        "assert (8,) == tuple(e.data for e in search_btree(t4, t8))\n",
        "assert (4,) == tuple(e.data for e in search_btree(t4, t4))\n",
        "\n",
        "fill_value = BTree(-1)\n",
        "picked_t8 = (e.data for e in preorder(t8, fill_value))\n",
        "t = btree_from_preorder_data(picked_t8, fill_value.data)\n",
        "assert [8, 5, 7, 6, 9] == [e.data for e in preorder(t)]\n",
        "assert [5, 6, 7, 8, 9] == [e.data for e in iterate(t)]"
      ]
    },
    {
      "cell_type": "code",
      "execution_count": null,
      "metadata": {
        "id": "Eb0OM5W9MNvF"
      },
      "outputs": [],
      "source": [
        "def btree_from_bfs_data(iterable, fill_data=-1):\n",
        "  q = deque([tree_out := BTree(next(it := iter(iterable), fill_data))])\n",
        "  for i, d in enumerate(it, 1):\n",
        "    if (tree := BTree(d) if d != fill_data else None):\n",
        "      q.append(tree)\n",
        "    if i%2:\n",
        "      q[0].left = tree\n",
        "    else:\n",
        "      q[0].right = tree\n",
        "      q.popleft()\n",
        "  return tree_out\n",
        "\n",
        "def bfs(tree_in, fill_tree=BTree(-1)):\n",
        "  def proc():\n",
        "    q = deque([(0, tree_in)])\n",
        "    while q:\n",
        "      d, tree = q.popleft()\n",
        "      if tree:\n",
        "        yield (d, tree)\n",
        "        q.extend([(d+1, tree.left), (d+1, tree.right)])\n",
        "      elif fill_tree:\n",
        "        yield (d, fill_tree)\n",
        "  it2 = tee(proc())\n",
        "  max_d = max(d for d, t in it2[1]) if fill_tree else -1\n",
        "  yield from (t for d, t in it2[0] if d != max_d)\n",
        "\n",
        "pickled = (1, 2, 3, -1, -1, 4, 5, -1, -1, -1, 6)\n",
        "b6 = BTree(1, BTree(2), BTree(3, BTree(4), BTree(5, None, BTree(6))))\n",
        "#      1\n",
        "#   2   3\n",
        "#      / \\\n",
        "#     4   5\n",
        "#          6\n",
        "pickle = lambda tree: (e.data for e in bfs(tree, BTree(-1)))\n",
        "assert pickled == tuple(pickle(btree_from_bfs_data(pickle(b6), -1)))"
      ]
    },
    {
      "cell_type": "code",
      "source": [
        "class Tree:\n",
        "  def __init__(self, data):\n",
        "    self.data, self.children = data, []\n",
        "\n",
        "def preorder(tree, fill_tree=Tree(\"#\")):\n",
        "  if tree:\n",
        "    yield tree\n",
        "    if tree.children:\n",
        "      yield from chain.from_iterable(preorder(c, fill_tree) for c in tree.children)\n",
        "    if fill_tree:\n",
        "      yield fill_tree\n",
        "\n",
        "def tree_from_preorder_data(iterable, fill_data=\"#\"):  # fill_data, e.g., -1\n",
        "  def proc():\n",
        "    while (data := next(it, fill_data)) != fill_data:\n",
        "      tree = Tree(data)\n",
        "      while (child := proc()):\n",
        "        tree.children.append(child)\n",
        "      return tree\n",
        "\n",
        "  it = iter(iterable)\n",
        "  return proc()\n",
        "\n",
        "# tree\n",
        "#        7\n",
        "#     /     \\\n",
        "#   5         9\n",
        "# 2 3 6\n",
        "t7 = Tree(7)\n",
        "t5 = Tree(5)\n",
        "t5.children.extend([Tree(2), Tree(3), Tree(6)])\n",
        "t7.children.extend([t5, Tree(9)])\n",
        "\n",
        "pickled = \"7,5,2,#,3,#,6,#,#,9,#,#\"\n",
        "assert pickled == \",\".join(str(e.data) for e in preorder(t7))\n",
        "t7_clone = tree_from_preorder_data(pickled.split(\",\"))\n",
        "assert pickled == \",\".join(str(e.data) for e in preorder(t7_clone))"
      ],
      "metadata": {
        "id": "FKI01_8BIX7x"
      },
      "execution_count": null,
      "outputs": []
    },
    {
      "cell_type": "code",
      "execution_count": null,
      "metadata": {
        "id": "KbxnmG2uS6Dw"
      },
      "outputs": [],
      "source": [
        "def diameter(tree):  # return (diameter, height).\n",
        "  if tree is None:\n",
        "    return (0, 0)\n",
        "  L = diameter(tree.left)\n",
        "  R = diameter(tree.right)\n",
        "  dia = max(L[0], R[0], 1 + L[1] + R[1])\n",
        "  return (dia, height := 1 + max(L[1], R[1]))\n",
        "\n",
        "def btree_from_two_orders(preorder, inorder):\n",
        "  if preorder:\n",
        "    value = preorder[0]\n",
        "    m = inorder.index(value)\n",
        "    return BTree(value, btree_from_two_orders(preorder[1:m+1], inorder[:m]),\n",
        "                 btree_from_two_orders(preorder[m+1:], inorder[m+1:]))\n",
        "\n",
        "# tree input:   a\n",
        "#             b\n",
        "#          c    f\n",
        "#           d     g\n",
        "#            e\n",
        "tree = btree_from_two_orders(\"abcdefg\", \"cdebfga\")\n",
        "assert (6, 5) == diameter(tree)"
      ]
    },
    {
      "cell_type": "code",
      "execution_count": null,
      "metadata": {
        "id": "1YgROCT6NsVz"
      },
      "outputs": [],
      "source": [
        "def isomorphic(tree, tester):  # for value equality, not reference equality.\n",
        "  return (\n",
        "    tree is None and tester is None\n",
        "    or tree and tester\n",
        "       and tree.data == tester.data\n",
        "       and isomorphic(tree.left, tester.left)\n",
        "       and isomorphic(tree.right, tester.right)\n",
        "  )  # yapf:disable\n",
        "\n",
        "def contains(tree, subtree, match_fn=isomorphic):\n",
        "  return (\n",
        "    subtree is None  # always true, if subtree is None.\n",
        "    or match_fn(tree, subtree)\n",
        "    or tree\n",
        "       and (contains(tree.left, subtree, match_fn)\n",
        "            or contains(tree.right, subtree, match_fn))\n",
        "  )  # yapf:disable\n",
        "Fse\n",
        "def starts_with(tree, tester):\n",
        "  return (\n",
        "    tester is None\n",
        "    or tree\n",
        "    and tree.data == tester.data\n",
        "    and starts_with(tree.left, tester.left)\n",
        "    and starts_with(tree.right, tester.right)\n",
        "  )  # yapf:disable"
      ]
    },
    {
      "cell_type": "markdown",
      "metadata": {
        "id": "ux-e5RZ5DcTX"
      },
      "source": [
        "!! **sequence sum** Given a binary tree of integers, find paths that sums up to a value. A path can start at any subtrees. e.g., paths (3, -1, 2), and (-1, 3, -1, 3) that sum up to 4 given this tree.\n",
        "```\n",
        "tree: -1\n",
        "       \\\n",
        "        3\n",
        "       /  \\\n",
        "     -1    2\n",
        "     / \\\n",
        "    2   3\n",
        "```"
      ]
    },
    {
      "cell_type": "code",
      "execution_count": null,
      "metadata": {
        "id": "dzfKvqDcN4P5"
      },
      "outputs": [],
      "source": [
        "def find_seq_sum(tree, seq_sum, cumsum_seq=[0], cumsum_indices=None):\n",
        "  if tree:  # diff works like np.diff, that reverses np.cumsum.\n",
        "    diff = lambda cumsum_seq: tuple(q - p for p, q in pairwise(cumsum_seq))\n",
        "    cumsum_seq.append(cumsum := cumsum_seq[-1] + tree.data)\n",
        "    cumsum_indices = cumsum_indices or defaultdict(list, {seq_sum: [0]})\n",
        "    cumsum_indices[cumsum + seq_sum].append(len(cumsum_seq)-1)\n",
        "    if cumsum_indices[cumsum]:\n",
        "      yield from (diff(cumsum_seq[i:]) for i in cumsum_indices[cumsum])\n",
        "    yield from chain(\n",
        "        find_seq_sum(tree.left, seq_sum, cumsum_seq, cumsum_indices),\n",
        "        find_seq_sum(tree.right, seq_sum, cumsum_seq, cumsum_indices))\n",
        "    cumsum_seq.pop()\n",
        "    cumsum_indices[cumsum + seq_sum].pop()\n",
        "\n",
        "tree = BTree(-1, None, BTree(3, BTree(-1, BTree(2), BTree(3)), BTree(2)))\n",
        "assert ((3, -1, 2), (-1, 3, -1, 3), (-1, 3, 2)) == tuple(find_seq_sum(tree, 4))"
      ]
    },
    {
      "cell_type": "code",
      "execution_count": null,
      "metadata": {
        "cellView": "form",
        "id": "eWkJ5ZZlSQfp"
      },
      "outputs": [],
      "source": [
        "# @title ##### 5.2 Given a double-precision floating-point number between 0 and 1, output its binary representation. If the exact binary representation requires more than 32 bits, print an error message.\n",
        "def float_to_str(f: float) -> str:\n",
        "  if f <= 0 or f >= 1:\n",
        "    return \"ERROR\"\n",
        "  L = list(\".\")\n",
        "  while f > 0:\n",
        "    if len(L) > 31:\n",
        "      return \"ERROR\"\n",
        "    f = round(2 * f, 6)\n",
        "    if f >= 1:\n",
        "      L.append(\"1\")\n",
        "      f -= 1\n",
        "    else:\n",
        "      L.append(\"0\")\n",
        "  return \"\".join(L)\n",
        "\n",
        "assert \".011\" == float_to_str(0.375)\n",
        "assert \".101\" == float_to_str(0.625)"
      ]
    },
    {
      "cell_type": "code",
      "execution_count": null,
      "metadata": {
        "id": "pcp5mCh7InW8"
      },
      "outputs": [],
      "source": [
        "# @title ##### 5.3 Given an integer, write a program to find the length of the longest sequence of 1s after flipping exactly one 0 to 1."
      ]
    },
    {
      "cell_type": "markdown",
      "metadata": {
        "id": "gsmxyBYwKEuJ"
      },
      "source": [
        "!! **next k bit_length sequence (successor), nCk (n choose k)** 5.4 Get the predecessor and successor integers with the same number of bits (1s)."
      ]
    },
    {
      "cell_type": "code",
      "execution_count": null,
      "metadata": {
        "id": "4bzENiQbIoM3"
      },
      "outputs": [],
      "source": [
        "def successor(n: int) -> int:  # count 0s, and 1s to process.\n",
        "  m = n.bit_length()\n",
        "  count0 = next((c0 for c0 in range(m) if n & (1 << c0)), 0)  # c0: no. 0s.\n",
        "  count1 = next((c1 for c1 in range(count0, m) if n & (1 << c1)==0), m) - count0\n",
        "  return n + (1 << count0) + (1 << count1-1)-1\n",
        "\n",
        "def predecessor(n: int) -> int:  # count 1s and 0s to process.\n",
        "  m = n.bit_length()\n",
        "  count1 = next((c1 for c1 in range(m) if n & (1 << c1)==0), m)  # c1: no. 1s.\n",
        "  count0 = next((c0 for c0 in range(count1, m) if n & (1 << c0)), 0) - count1\n",
        "  return n - (1 << count1) - ((1 << count0-1)-1)\n",
        "\n",
        "pred, succ = 256+16+8+4, 256+32+2+1\n",
        "assert succ == successor(pred) and pred == predecessor(succ)"
      ]
    },
    {
      "cell_type": "markdown",
      "metadata": {
        "id": "bnOCl3fwH4Zp"
      },
      "source": [
        "5.5 What does this code do? (n > 0 and n & (m-1) == 0)"
      ]
    },
    {
      "cell_type": "markdown",
      "metadata": {
        "id": "gR2slFqBIdkU"
      },
      "source": [
        "5.6 Write a program to get the Hamming distance between two integers -- the number of positions at which the corresponding bits are different. `(lhs ^ rhs).bit_count()`.\n"
      ]
    },
    {
      "cell_type": "markdown",
      "metadata": {
        "id": "yHujtSx7Johb"
      },
      "source": [
        "5.7 Write a program to swap odd and even bits in an integer with as few instructions as possible.  \n",
        "`swap_bits = lambda n: (n & 0xAAAAAAAA) >> 1 | (n & 0x55555555) << 1`"
      ]
    },
    {
      "cell_type": "code",
      "execution_count": null,
      "metadata": {
        "id": "Nl0_zgaBTVog"
      },
      "outputs": [],
      "source": [
        "# @title ##### 5.8 Design an algorithm to draw a horizontal line on a monochrome screen, where the screen is represented as a byte array with each byte storing 8 pixels. The function signature looks like: draw_line(screen: bytes[], width, x1, x2, y: int)"
      ]
    },
    {
      "cell_type": "code",
      "execution_count": null,
      "metadata": {
        "id": "z-GQheNY2HVw"
      },
      "outputs": [],
      "source": [
        "# @title ##### 8.1 Given a staircase with n steps, write a program to count the number of possible ways to climb it, when one can hop either 1, 2, or 3 steps at a time.\n",
        "@lru_cache(maxsize=None)\n",
        "def climb(n):\n",
        "  if n in (1, 2):\n",
        "    return n\n",
        "  if n==3:\n",
        "    return 4\n",
        "  return climb(n-1) + climb(n-2) + climb(n-3)\n",
        "\n",
        "assert 13 == climb(5)\n",
        "assert 24 == climb(6)"
      ]
    },
    {
      "cell_type": "markdown",
      "metadata": {
        "id": "5LNWT5h433Nk"
      },
      "source": [
        "8.2 Given n x m grid, write a program to route a robot from (0, 0) to (n-1, m-1). How many possible ways are there, when the robot can move in two directions: right, and down. What if there are some spots of off-limits?"
      ]
    },
    {
      "cell_type": "code",
      "execution_count": null,
      "metadata": {
        "id": "m3DrY2PARhuK"
      },
      "outputs": [],
      "source": [
        "def backtrack(candidate):  # backtracks from a partial route candidate.\n",
        "  def within_bounds_n_limits(r, c):  # bounds: 0s. Q: should you avoid cycles?\n",
        "    return 0 <= r < m and 0 <= c and c < n and maze[r][c]==1\n",
        "  def expand_out(candidate):\n",
        "    r0, c0 = candidate[-1]\n",
        "    for r, c in ((r0+1, c0), (r0, c0+1)):\n",
        "      if within_bounds_n_limits(r, c):\n",
        "        yield (r, c)\n",
        "\n",
        "  if candidate[-1] == (m-1, n-1):\n",
        "    yield tuple(candidate)  # reduces to a complete route candidate.\n",
        "  else:\n",
        "    for e in expand_out(candidate):\n",
        "      candidate.append(e)\n",
        "      yield from backtrack(candidate)\n",
        "      candidate.pop()\n",
        "\n",
        "maze = [  # maze: m x n grid.\n",
        "    [1, 1, 1, 1, 1, 0],\n",
        "    [1, 0, 0, 0, 1, 0],\n",
        "    [1, 1, 1, 1, 1, 0],\n",
        "    [1, 0, 0, 0, 1, 1],\n",
        "    [1, 1, 0, 0, 1, 0],\n",
        "    [1, 1, 0, 1, 1, 1],\n",
        "]\n",
        "m, n = len(maze), len(maze[0])\n",
        "\n",
        "expected = (\n",
        "  ((0, 0), (1, 0), (2, 0), (2, 1), (2, 2), (2, 3), (2, 4), (3, 4), (4, 4), (5, 4), (5, 5)),\n",
        "  ((0, 0), (0, 1), (0, 2), (0, 3), (0, 4), (1, 4), (2, 4), (3, 4), (4, 4), (5, 4), (5, 5)),\n",
        ")  # yapf: disable\n",
        "assert expected == tuple(islice(backtrack([(0, 0)]), 0, 2))"
      ]
    },
    {
      "cell_type": "markdown",
      "metadata": {
        "id": "fEmJEvgadi4X"
      },
      "source": [
        "8.3 Given an array of sorted integers, write a method to find a magic index where A[i] = i. What if integers are not distinct?"
      ]
    },
    {
      "cell_type": "code",
      "execution_count": null,
      "metadata": {
        "id": "zCrsWPMnTs3I"
      },
      "outputs": [],
      "source": [
        "def magic(L, lo=0, hi=None):\n",
        "  if hi is None:\n",
        "    hi = len(L)\n",
        "  if hi - lo>0:\n",
        "    mid = (lo+hi-1) // 2\n",
        "    if mid == L[mid]:\n",
        "      return mid\n",
        "    return (magic(L, lo, min(mid, L[mid]+1)) or magic(L, max(mid+1, L[mid]), hi))\n",
        "\n",
        "deq = [  #\n",
        "    [1, 3, 3, 5, 5, 5, 7, 9, 9],\n",
        "    [1, 3, 3, 5, 6, 6, 7, 7, 9],\n",
        "    [1, 1, 3, 4, 6, 6, 7, 9, 9],\n",
        "]\n",
        "assert [5, 7, 1] == [magic(q) for q in deq]"
      ]
    },
    {
      "cell_type": "markdown",
      "metadata": {
        "id": "KlSzkC8hS1IN"
      },
      "source": [
        "!! **onesided bisect left, bisect range, bisect_left, bisect_right** Find the exact point of transition within an array that contains a run of 0's and an unbounded run of 1's."
      ]
    },
    {
      "cell_type": "code",
      "execution_count": null,
      "metadata": {
        "id": "CTHGCEUAmLLI"
      },
      "outputs": [],
      "source": [
        "def one_sided_bisect(L):  # one-sided binary search; algorithm design manual 4.9.2.\n",
        "  if L[1]==1:\n",
        "    return 1\n",
        "  for n in range(1, 32):\n",
        "    if L[2**n]==1:\n",
        "      return bisect_left(L, 1, lo=2**(n-1)+1, hi=2**n+1)\n",
        "\n",
        "def bisect_left(L, x, lo=0, hi=None):\n",
        "  if hi is None:\n",
        "    hi = len(L)\n",
        "  while lo < hi:\n",
        "    mid = (lo+hi) // 2\n",
        "    if x > L[mid]:\n",
        "      lo = mid+1\n",
        "    else:\n",
        "      hi = mid\n",
        "  return lo\n",
        "\n",
        "def bisect_right(L, x, lo=0, hi=None):\n",
        "  if hi is None:\n",
        "    hi = len(L)\n",
        "  while lo < hi:\n",
        "    mid = (lo+hi) // 2\n",
        "    if x >= L[mid]:\n",
        "      lo = mid+1\n",
        "    else:\n",
        "      hi = mid\n",
        "  return lo\n",
        "\n",
        "def bisect_range(L, x, lo=0, hi=None):\n",
        "  if hi is None:\n",
        "    hi = len(L)\n",
        "  args = [L, x, lo, hi]\n",
        "  return (bisect_left(*args), bisect_right(*args))\n",
        "\n",
        "L = [1, 1, 5, 5, 5, 5, 5, 7, 7]\n",
        "assert [(2, 7), (0, 2), (7, 9)] == [bisect_range(L, x) for x in (5, 1, 7)]\n",
        "assert [(0, 0), (9, 9)] == [bisect_range(L, x) for x in (0, 8)]\n",
        "test_cases = ((0, 1), (0, 0, 1), (0, 0, 0, 1, 1), (0, 0, 0, 0, 1))\n",
        "assert [1, 2, 3, 4] == [one_sided_bisect(seq) for seq in test_cases]"
      ]
    },
    {
      "cell_type": "markdown",
      "metadata": {
        "id": "rpTNRCaJqk4y"
      },
      "source": [
        "!! **permutate next, permutations, combinations (all subsets)** ilen(permutations(range(5), 2)) == 20 and ilen(combinations(range(5), 2)) == 10\n",
        "\n",
        "* a k-combination of a set S is a subset of k distinct elements of S, and the # of k-combinations is equals to the binomial coefficient, n! / (k! * (n-k)!).\n",
        "* a k-permutation of a set S is an ordered sequence of k distinct elements of S, and the # of k-permutation of n objects is denoted variously nPk, Pn,k, and P(n,k), and its value is given by n! / (n-k)!.\n",
        "\n",
        "---\n",
        "\n",
        "8.4 Write a program to generate all subsets of a set.  \n",
        "8.7 and 8.8 Write a program to generate all permutations of a string of unique and non-unique characters."
      ]
    },
    {
      "cell_type": "code",
      "execution_count": null,
      "metadata": {
        "id": "hXVdq12vqrld"
      },
      "outputs": [],
      "source": [
        "# Find the longest rising tail sequence (from the end), swap with L[j] greater L[i], and reverse.\n",
        "# 2, 4, 3, 1 -> 3, 1, 2, 4\n",
        "# i           : i where seq[i] smaller than seq[i+i]\n",
        "#       j     : j where seq[j] larger  than seq[i]\n",
        "# 3     2\n",
        "# 3  1  2  4\n",
        "def permutate_next(seq):  # returns the next lexicographical permutation, or None.\n",
        "  n = len(seq)\n",
        "  if (i := next((i for i in range(n-2, -1, -1) if seq[i] < seq[i+1]), -1)) > -1:\n",
        "    j = next(j for j in range(n-1, i, -1) if seq[j] > seq[i])\n",
        "    seq[i], seq[j] = seq[j], seq[i]\n",
        "    seq[i+1:] = seq[i+1:][::-1]  # reverses the descending sequence.\n",
        "    return seq\n",
        "\n",
        "def all_subsets(L, stop=None):  # nCk combinations, where k: [0, n].\n",
        "  if (stop := len(L) if stop is None else stop)==0:\n",
        "    yield ()\n",
        "  else:\n",
        "    for subseq in all_subsets(L, stop-1):\n",
        "      yield from (subseq + (L[stop-1],), subseq)\n",
        "\n",
        "def permutate(L, i=0):  # permutates L at index i.\n",
        "  if i == len(L):\n",
        "    yield L\n",
        "  else:\n",
        "    distinct_value_indices = {L[j]: j for j in range(i, len(L))}\n",
        "    for _, j in distinct_value_indices.items():\n",
        "      L[i], L[j] = L[j], L[i]\n",
        "      yield from permutate(L, i+1)\n",
        "      L[i], L[j] = L[j], L[i]\n",
        "\n",
        "assert [2, 1, 3, 4] == permutate_next([1, 4, 3, 2])\n",
        "assert not permutate_next([4, 3, 2, 1])\n",
        "assert [\"aab\", \"aba\", \"baa\"] == list(\"\".join(e) for e in permutate(list(\"aab\")))\n",
        "expected = \"abc\", \"ab\", \"ac\", \"a\", \"bc\", \"b\", \"c\", \"\"\n",
        "assert expected == tuple(map(\"\".join, all_subsets(\"abc\")))\n",
        "\n",
        "def combinations(iterable, k):  # k combinations, C(n, k), often read as \"n choose k\".\n",
        "  pool = tuple(iterable)\n",
        "  n = len(pool)\n",
        "  if k > n:\n",
        "    return\n",
        "  indices = list(range(k))\n",
        "  yield tuple(pool[i] for i in indices)\n",
        "  while True:\n",
        "    for i in reversed(range(k)):  # Q: any not maxed out.\n",
        "      if indices[i] != i + n - k:\n",
        "        break\n",
        "    else:\n",
        "      return  # Looks all maxed out.\n",
        "    indices[i:k] = range(indices[i]+1, indices[i] + k - i+1)\n",
        "    yield tuple(pool[i] for i in indices)\n",
        "\n",
        "assert \"AB AC AD BC BD CD\".split(\" \") == list(map(\"\".join, combinations(\"ABCD\", 2)))\n",
        "\n",
        "def permutations(iterable, r=None):\n",
        "  pool = tuple(iterable)\n",
        "  n = len(pool)\n",
        "  r = n if r is None else r\n",
        "  if r > n:\n",
        "    return\n",
        "\n",
        "  indices = list(range(n))\n",
        "  cycles = list(range(n, n - r, -1))\n",
        "  yield tuple(pool[i] for i in indices[:r])\n",
        "\n",
        "  while n:\n",
        "    for i in reversed(range(r)):\n",
        "      cycles[i] -= 1\n",
        "      if cycles[i]==0:\n",
        "        indices[i:] = indices[i+1:] + indices[i:i+1]\n",
        "        cycles[i] = n - i\n",
        "      else:\n",
        "        j = cycles[i]\n",
        "        indices[i], indices[-j] = indices[-j], indices[i]\n",
        "        yield tuple(pool[i] for i in indices[:r])\n",
        "        break\n",
        "    else:\n",
        "      return\n",
        "\n",
        "assert (\"AB AC AD BA BC BD CA CB CD DA DB DC\".split(\" \")  #\n",
        "        == list(map(\"\".join, permutations(\"ABCD\", 2))))"
      ]
    },
    {
      "cell_type": "code",
      "execution_count": null,
      "metadata": {
        "cellView": "form",
        "id": "AnA8GtASxp2Q"
      },
      "outputs": [],
      "source": [
        "# @title ##### 8.9 Write a program to generate all possible, valid combinations of n-pairs of parenthesis, e.g., INPUT: 3, OUTPUT: ((())), (()()), (())(), ()(()), ()()().\n",
        "def combine_parens(o, c):  # Combines parens with open and close balanced.\n",
        "  if c==0:\n",
        "    yield \"\"\n",
        "  elif o==0:\n",
        "    yield \")\" * c\n",
        "  elif c == o:\n",
        "    yield from (\"(\" + e for e in combine_parens(o-1, c))\n",
        "  else:\n",
        "    yield from (\"(\" + e for e in combine_parens(o-1, c))\n",
        "    yield from (\")\" + e for e in combine_parens(o, c-1))\n",
        "\n",
        "assert {'((()))', '(()())', '(())()', '()(())', '()()()'} == set(combine_parens(3, 3))"
      ]
    },
    {
      "cell_type": "markdown",
      "metadata": {
        "id": "bqB0nDmx0Njn"
      },
      "source": [
        "!! **flood-fill** 8.10 Write a flood-fill method to fill in a new color until the color changes from the original color; given a point and a new color.\n"
      ]
    },
    {
      "cell_type": "code",
      "execution_count": null,
      "metadata": {
        "id": "GCz13Y1E0gAO"
      },
      "outputs": [],
      "source": [
        "def flood_fill(G, r, c, new):  # G: graph.\n",
        "  m, n, old = len(G), len(G[0]), G[r][c]  # m rows x n columns.\n",
        "  stack = [(r, c)]\n",
        "  while stack:\n",
        "    r, c = stack.pop()\n",
        "    if 0 <= r < m and 0 <= c < n and G[r][c] == old:\n",
        "      G[r][c] = new\n",
        "      for dr, dc in [(0, 1), (0, -1), (1, 0), (-1, 0)]:\n",
        "        stack.append((r + dr, c + dc))\n",
        "  return G\n",
        "\n",
        "def flood_fill_quick(graph, r, c, new):  # graph g: m x n pixel image\n",
        "  m, n, G, old = len(graph), len(graph[0]), graph, graph[r][c]  # m rows x n columns.\n",
        "  q = deque([(r, c)])\n",
        "  while q:\n",
        "    r, c = q.popleft()\n",
        "    if G[r][c] == old:\n",
        "      west = next((w for w in reversed(range(c)) if G[r][w] != old), -1)+1\n",
        "      east = next((e for e in range(c+1, n) if G[r][e] != old), n)-1\n",
        "      for c in range(west, east+1):\n",
        "        G[r][c] = new\n",
        "        if r>0 and G[r-1][c] == old:\n",
        "          q.append((r-1, c))\n",
        "        if r < m-1 and G[r+1][c] == old:\n",
        "          q.append((r+1, c))\n",
        "  return G\n",
        "\n",
        "# yapf:disable\n",
        "graph = lambda: [\n",
        "    [1, 1, 1, 1],\n",
        "    [1, 0, 0, 1],\n",
        "    [0, 1, 0, 1],\n",
        "    [1, 1, 1, 1]\n",
        "]\n",
        "assert [[1, 1, 1, 1], [1, 2, 2, 1], [0, 1, 2, 1], [1, 1, 1, 1]] == flood_fill(graph(), 1, 1, 2)\n",
        "assert [[1, 1, 1, 1], [1, 3, 3, 1], [0, 1, 3, 1], [1, 1, 1, 1]] == flood_fill(graph(), 2, 2, 3)\n",
        "assert [[4, 4, 4, 4], [4, 0, 0, 4], [0, 4, 0, 4], [4, 4, 4, 4]] == flood_fill(graph(), 2, 1, 4)\n",
        "assert [[1, 1, 1, 1], [1, 3, 3, 1], [0, 1, 3, 1], [1, 1, 1, 1]] == flood_fill_quick(graph(), 2, 2, 3)\n",
        "assert [[4, 4, 4, 4], [4, 0, 0, 4], [0, 4, 0, 4], [4, 4, 4, 4]] == flood_fill_quick(graph(), 2, 1, 4)"
      ]
    },
    {
      "cell_type": "markdown",
      "metadata": {
        "id": "q49i_TIx1Znk"
      },
      "source": [
        "8.11 Given infinite # of coins (25, 10, 5, and 1 cents), write a method to count the number of ways to represent n cents."
      ]
    },
    {
      "cell_type": "code",
      "execution_count": null,
      "metadata": {
        "id": "0B8hIdvO6ZPs"
      },
      "outputs": [],
      "source": [
        "def make_amount(k, denominations, i=0):  # Processes a denom. at index i.\n",
        "  d_i = denominations[i]\n",
        "  return sum(make_amount(k - m*d_i, denominations, i+1)\n",
        "             for m in range(k//d_i+1)) if d_i>1 else 1\n",
        "\n",
        "def make_changes(k, denoms):  # Make the changes k with least coins.\n",
        "  def prog(k):  # needs \\@lru_cache(maxsize=None)\n",
        "    cases = ((d,) + prog(k - d) for d in denoms if k >= d)\n",
        "    return min(cases, key=lambda v: len(v)) if k>0 else ()\n",
        "\n",
        "  return prog(k)\n",
        "\n",
        "assert 1 == make_amount(4, [25, 10, 5, 1])\n",
        "assert 2 == make_amount(5, [25, 10, 5, 1])\n",
        "assert 4 == make_amount(10, [25, 10, 5, 1])  # 4 ways to make 10 cents\n",
        "assert 9 == make_amount(20, [25, 10, 5, 1])  # 13 ways to make 25 cents.\n",
        "assert (5, 5) == make_changes(10, [7, 5, 1])\n",
        "assert (7, 5, 1) == make_changes(13, [7, 5, 1])\n",
        "assert (7, 7) == make_changes(14, [7, 5, 1])"
      ]
    },
    {
      "cell_type": "markdown",
      "metadata": {
        "id": "YSdoHUt29c6p"
      },
      "source": [
        "!! **queens in peace, expandable(candidate, move)** 8.12 Given an n x n chessboard, write a program to place eight queens so that none of them share the same row, column, or diagonal -- Visualize"
      ]
    },
    {
      "cell_type": "code",
      "execution_count": null,
      "metadata": {
        "id": "1U7JH-lA9mOR"
      },
      "outputs": [],
      "source": [
        "def within_bounds_n_limits(queen_seq, r, c):  # peaceful at row r, column c?\n",
        "  return all([\n",
        "      c0 != c and r - r0 != abs(c - c0)  # r > r0; it processes rows [0, n).\n",
        "      for r0, c0 in enumerate(queen_seq)\n",
        "  ])\n",
        "\n",
        "def queens_in_peace(n, queen_seq):  # n: number of queens to place in queen_seq.\n",
        "  r = len(queen_seq)\n",
        "  if r == n:\n",
        "    yield tuple(queen_seq)\n",
        "  else:\n",
        "    for c in range(n):\n",
        "      if within_bounds_n_limits(queen_seq, r, c):\n",
        "        queen_seq.append(c)\n",
        "        yield from queens_in_peace(n, queen_seq)\n",
        "        queen_seq.pop()\n",
        "\n",
        "assert ((1, 3, 0, 2), (2, 0, 3, 1)) == tuple(queens_in_peace(4, []))\n",
        "expected = ((0,),), (), ()\n",
        "assert expected == tuple(tuple(queens_in_peace(n, [])) for n in range(1, 4))"
      ]
    },
    {
      "cell_type": "markdown",
      "metadata": {
        "id": "rrCl84Aw0Nrj"
      },
      "source": [
        "8.13 Given n boxes that cannot be rotated, but can only be stacked up, write a program to find the tallest possible stack, where the height of a stack is the sum of height of each box. Each box in the stack must be larger than the above it.\n",
        "\n"
      ]
    },
    {
      "cell_type": "code",
      "execution_count": null,
      "metadata": {
        "id": "HSBaxd8tITBC"
      },
      "outputs": [],
      "source": [
        "def stack(boxes):\n",
        "  @lru_cache(maxsize=None)\n",
        "  def prog(n, L_limit=None):\n",
        "    recap = lambda kv, k, v: (kv[0] + k, kv[1] + v)\n",
        "    if n==0:\n",
        "      return 0, ()\n",
        "    else:\n",
        "      box = boxes[n-1]\n",
        "      cases = (\n",
        "          prog(n-1, L_limit), recap(prog(n-1, box[0]), box[2], (n-1,))  #\n",
        "          if L_limit is None or box[0] <= L_limit else (0, ()))\n",
        "      return max(cases, key=lambda kv: kv[0])\n",
        "\n",
        "  height, choices = prog(len(boxes))\n",
        "  return height, choices\n",
        "\n",
        "boxes = [  # sorted by W (width).\n",
        "  (100, 30, 10), (200, 40, 10), (300, 50, 21),\n",
        "  (10, 200, 30), (20, 300, 10), (30, 400, 20)\n",
        "]  # yapf:disable\n",
        "assert (60, (3, 4, 5)) == stack(boxes)"
      ]
    },
    {
      "cell_type": "markdown",
      "metadata": {
        "id": "MnMaHpeFOkhO"
      },
      "source": [
        "8.14 Given a boolean equation, write a program to count the number of ways to parenthesize the expression such that equation is true, e.g., INPUT: Expression: 1^0|0|1, Desired Result: false(0), OUTPUT: 2 ways: 1^((0|0)|1) and 1^(0|(0|1))."
      ]
    },
    {
      "cell_type": "code",
      "execution_count": null,
      "metadata": {
        "id": "W4HsxcBBOisK"
      },
      "outputs": [],
      "source": [
        "def order(operations, bit):\n",
        "  n = len(operations) // 2  # n operations to parenthesis.\n",
        "  if n<2:\n",
        "    return 1 if bit == eval(operations) else 0\n",
        "  else:\n",
        "    m = 0\n",
        "    for p in range(n):\n",
        "      op, lhs, rhs = (operations[2*p+1], operations[0:2*p+1], operations[2*p+2:])\n",
        "      lhs_0, lhs_1, rhs_0, rhs_1 = (\n",
        "          order(e, bit) for e, bit in ((lhs, 0), (lhs, 1), (rhs, 0), (rhs, 1)))\n",
        "      if op == '|':\n",
        "        m += ((lhs_0*rhs_1 + lhs_1*rhs_0 + lhs_1*rhs_1) if bit==1 else\n",
        "              (lhs_0 * rhs_0))\n",
        "      if op == '&':\n",
        "        m += ((lhs_1 * rhs_1) if bit==1 else\n",
        "              (lhs_0*rhs_1 + lhs_1*rhs_0 + lhs_0*rhs_0))\n",
        "      if op == '^':\n",
        "        m += ((lhs_0*rhs_1 + lhs_1*rhs_0) if bit==1 else (lhs_0*rhs_0 + lhs_1*rhs_1))\n",
        "    return m\n",
        "\n",
        "assert 2 == order(\"1^0|0|1\", 0)"
      ]
    },
    {
      "cell_type": "code",
      "execution_count": null,
      "metadata": {
        "id": "_R0GAGKAqWTR"
      },
      "outputs": [],
      "source": [
        "def interleave(L, R):\n",
        "  if L == \"\" and R == \"\":\n",
        "    yield \"\"\n",
        "  elif L == \"\" or R == \"\":\n",
        "    yield L + R\n",
        "  else:\n",
        "    yield from (L[0] + e for e in interleave(L[1:], R))\n",
        "    yield from (R[0] + e for e in interleave(L, R[1:]))\n",
        "\n",
        "interleaved = \"ab12\", \"a1b2\", \"a12b\", \"1ab2\", \"1a2b\", \"12ab\"\n",
        "assert interleaved == tuple(interleave(\"ab\", \"12\"))\n",
        "assert 20 == len(tuple(interleave(\"abc\", \"123\")))"
      ]
    },
    {
      "cell_type": "markdown",
      "metadata": {
        "id": "H19mwNdT2c_1"
      },
      "source": [
        "!! **rotated, sorted integer cycles** 10.3 Given an array of sorted integers that has been rotated a few times, write a program to find an element in the array."
      ]
    },
    {
      "cell_type": "code",
      "execution_count": null,
      "metadata": {
        "id": "dGHJPb-e2UZZ"
      },
      "outputs": [],
      "source": [
        "def index_in_cycle(L, key, start=0, stop=None):\n",
        "  if stop is None:\n",
        "    stop = len(L)\n",
        "  while stop - start>0:\n",
        "    mid = (start+stop) // 2\n",
        "    if L[mid] == key:\n",
        "      return mid\n",
        "    if L[mid] > L[stop-1]:\n",
        "      if L[start] <= key < L[mid]:  # monotonicLlly rising.\n",
        "        stop = mid\n",
        "      else:\n",
        "        start = mid+1\n",
        "    else:\n",
        "      if L[mid] < key <= L[stop-1]:  # monotonically rising.\n",
        "        start = mid+1\n",
        "      else:\n",
        "        stop = mid\n",
        "\n",
        "def min_in_cycle(L, start=0, stop=None):\n",
        "  if stop is None:\n",
        "    stop = len(L)\n",
        "  if stop - start>1:\n",
        "    if L[mid := (start+stop-1) // 2] > L[stop-1]:\n",
        "      return min_in_cycle(L, mid+1, stop)\n",
        "    else:  # RHS is monotonically rising.\n",
        "      return min_in_cycle(L, start, mid+1)\n",
        "  else:\n",
        "    return start\n",
        "\n",
        "deq = [\n",
        "    deque([7, 8, 0, 1, 2, 3, 4, 5, 6]),  #\n",
        "    deque([3, 4, 5, 6, 7, 8, 0, 1, 2])\n",
        "]\n",
        "for q in deq:\n",
        "  for e in (0, 3, 5, 7):\n",
        "    assert e == q[index_in_cycle(q, e)]\n",
        "\n",
        "assert [0, 0, 1] == [min_in_cycle(L) for L in ([6], [6, 7], [7, 6])]\n",
        "assert [2, 6] == [min_in_cycle(q) for q in deq]\n",
        "\n",
        "def peak(L, start=0, stop=None):  # integers are rising and falling in L.\n",
        "  if stop is None:\n",
        "    stop = len(L)\n",
        "  mid = (start+stop-1) // 2\n",
        "  if L[mid-1] < L[mid] > L[mid+1]:\n",
        "    return mid\n",
        "  elif L[mid-1] < L[mid] < L[mid+1]:\n",
        "    return peak(L, mid+1, stop)\n",
        "  else:\n",
        "    return peak(L, start, mid)\n",
        "\n",
        "assert 6 == peak([1, 5, 7, 9, 15, 18, 21, 19, 14])"
      ]
    },
    {
      "cell_type": "markdown",
      "metadata": {
        "id": "-L-bK3nY22dc"
      },
      "source": [
        "!! **sparse_bisect, sparse non-empty keys** 10.5 Given an array of sorted strings, which is interspersed with empty strings, write a method to find the location of a given string, e.g., find 'ball' in ['at', '', 'ball', '', '', 'car', '', 'dad', '', '']."
      ]
    },
    {
      "cell_type": "code",
      "execution_count": null,
      "metadata": {
        "id": "jon_NqEf2Udz"
      },
      "outputs": [],
      "source": [
        "def sparse_bisect(L, key, start=0, stop=None):\n",
        "  if stop is None:\n",
        "    stop = len(L)\n",
        "  if stop - start>0:\n",
        "    lo = hi = mid = (start+stop-1) // 2\n",
        "    while not L[mid]:\n",
        "      if lo < start and hi >= stop:\n",
        "        return\n",
        "      if lo >= start and L[lo]:\n",
        "        mid = lo\n",
        "      elif hi < stop and L[hi]:\n",
        "        mid = hi\n",
        "      else:\n",
        "        lo, hi = lo-1, hi+1\n",
        "    return (sparse_bisect(L, key, start, mid) if key < L[mid] else  #\n",
        "            sparse_bisect(L, key, mid+1, stop) if key > L[mid] else mid)\n",
        "\n",
        "assert 1 == sparse_bisect([\"\", \"abc\", \"dos\", \"\", \"\", \"ijk\", \"xyz\"], \"abc\")\n",
        "assert 6 == sparse_bisect([\"\", \"abc\", \"dos\", \"\", \"\", \"ijk\", \"xyz\"], \"xyz\")"
      ]
    },
    {
      "cell_type": "markdown",
      "metadata": {
        "id": "OZs7eh3f2o16"
      },
      "source": [
        "10.9 Given an NxM matrix in which each row and each column is sorted in ascending order, write a method to find an element. LC 240. Search a 2D matrix II."
      ]
    },
    {
      "cell_type": "code",
      "execution_count": null,
      "metadata": {
        "id": "WCYG2a1K2Uhn"
      },
      "outputs": [],
      "source": [
        "def find_in_grid(g, q, rows=None, cols=None):  # 3/4-section; not bisection.\n",
        "  if rows is None:\n",
        "    rows = (0, len(g))\n",
        "  if cols is None:\n",
        "    cols = (0, len(g[0]))\n",
        "  if rows[1] > rows[0] and cols[1] > cols[0]:\n",
        "    r, c = ((e[1] + e[0])//2 for e in (rows, cols))\n",
        "    if q < g[r][c]:  # find in 3/4 of the section.\n",
        "      return (find_in_grid(g, q, (rows[0], r), cols)\n",
        "              or find_in_grid(g, q, (r, rows[1]), (cols[0], c)))\n",
        "    elif q > g[r][c]:  # find in 3/4 of the section.\n",
        "      return (find_in_grid(g, q, (r+1, rows[1]), cols)\n",
        "              or find_in_grid(g, q, (rows[0], r+1), (c+1, cols[1])))\n",
        "    else:\n",
        "      return (r, c)\n",
        "\n",
        "grid = [\n",
        "    [ 1,  4,  7, 11, 15],\n",
        "    [ 2,  5,  8, 12, 19],\n",
        "    [ 3,  6,  9, 16, 22],\n",
        "    [10, 13, 14, 17, 24],\n",
        "    [18, 21, 23, 26, 30],\n",
        "]  # yapf:disable\n",
        "assert [(2, 1), (1, 2), None] == [find_in_grid(grid, q) for q in (6, 8, 20)]"
      ]
    },
    {
      "cell_type": "code",
      "execution_count": null,
      "metadata": {
        "id": "dE4mrjA93S2b"
      },
      "outputs": [],
      "source": [
        "def slice_sorted_two(a1, a2, rng=None, rng1=None, rng2=None):\n",
        "  rng1 = rng1 or [0, len(a1)]\n",
        "  rng2 = rng2 or [0, len(a2)]\n",
        "  m, n = rng1[1] - rng1[0], rng2[1] - rng2[0]\n",
        "  if rng is None:\n",
        "    k, z = divmod(m + n, 2)\n",
        "    rng = [k, k+1 if z else k+2]\n",
        "  if n==1:\n",
        "    rng1[0] += rng[0]-1\n",
        "    rng[0], rng[1] = 0, rng[1] - rng[0]\n",
        "  elif m==1:\n",
        "    rng2[0] += rng[0]-1\n",
        "    rng[0], rng[1] = 0, rng[1] - rng[0]\n",
        "  if rng[0]==0:\n",
        "    res = []\n",
        "    for _ in range(rng[0], rng[1]):\n",
        "      if rng1[0] < len(a1) and rng2[0] < len(a2):\n",
        "        if a1[rng1[0]] < a2[rng2[0]]:\n",
        "          res.append(a1[rng1[0]])\n",
        "          rng1[0] += 1\n",
        "        else:\n",
        "          res.append(a2[rng2[0]])\n",
        "          rng2[0] += 1\n",
        "      elif rng1[0] < len(a1):\n",
        "        res.append(a1[rng1[0]])\n",
        "        rng1[0] += 1\n",
        "      elif rng2[0] < len(a2):\n",
        "        res.append(a2[rng2[0]])\n",
        "        rng2[0] += 1\n",
        "    return res\n",
        "  ext1 = rng[0] * m // (m+n)\n",
        "  ext2 = rng[0] - ext1\n",
        "  cmp0 = a1[rng1[0] + ext1] - a2[rng2[0] + ext2]\n",
        "  if cmp0<0:\n",
        "    rng[0], rng[1] = rng[0] - ext1, rng[1] - ext1\n",
        "    rng1[0] = rng1[0] + ext1\n",
        "    rng2[1] = rng2[0] + ext2\n",
        "  else:\n",
        "    rng[0], rng[1] = rng[0] - ext2, rng[1] - ext2\n",
        "    rng1[0] = rng1[0] + ext2\n",
        "    rng2[1] = rng2[0] + ext1\n",
        "  return slice_sorted_two(a1, a2, rng, rng1, rng2)\n",
        "\n",
        "assert ([2, 3, 4, 5, 11, 12, 13]  #\n",
        "        == slice_sorted_two(list(range(1, 6)), list(range(11, 16)), [2, 9]))"
      ]
    },
    {
      "cell_type": "markdown",
      "source": [
        "!! **seekable binary search tree, track and rank, or track LE (lesser or same)**  \n",
        "10.10 Design and implement a data structure and an algorithm that can track a stream of numbers, and tell the rank of a value x (the number of values less than or equal to x).  \n",
        "4.11 Design a binary search tree capable of selecting a random node with equal probability. Operations such as inserting, deleting, finding, and randomly selecting a node should run in sublinear time. Seekable binary search tree has operations:\n",
        "* bisect method yields bisecting tree nodes from the leaf to the root.\n",
        "* getitem method returns the leaf node from the bisect, or none, if not found.\n",
        "* setitem method get the leaf node from bisect, and makes a node of a new key.\n",
        "* seek method returns the node, when `index` equals to the size of L sub-tree."
      ],
      "metadata": {
        "id": "uitkLBvQ35qL"
      }
    },
    {
      "cell_type": "code",
      "source": [
        "class BTree:  # Design and implement a seekable binary search tree.\n",
        "  def __init__(self, data=None, left=None, right=None, key=None):\n",
        "    lr = (c if isinstance(c, (BTree, type(None))) else BTree(c) for c in (left, right))\n",
        "    self.data, self.left, self.right = data, *lr\n",
        "    self.key = data if key is None else key\n",
        "    self._size = 1 + sum(c._size for c in (self.left, self.right) if c)\n",
        "  #\n",
        "  def bisect(self, key):\n",
        "    if key < self.key and self.left:\n",
        "      yield from self.left.bisect(key)\n",
        "    elif key > self.key and self.right:\n",
        "      yield from self.right.bisect(key)\n",
        "    yield self\n",
        "  #\n",
        "  def __getitem__(self, key):\n",
        "    if key == (tree := next(self.bisect(key))).key:\n",
        "      return tree\n",
        "  #\n",
        "  def __setitem__(self, key, data):\n",
        "    peeked = next(it := self.bisect(key))\n",
        "    if key == peeked.key:\n",
        "      peeked.data = data\n",
        "    else:\n",
        "      if key < peeked.key:\n",
        "        peeked.left = BTree(data, key=key)\n",
        "      else:\n",
        "        peeked.right = BTree(data, key=key)\n",
        "      for tree in chain([peeked], it):  # Recalculate _size in a bottom-up fashion.\n",
        "        tree._size = 1 + sum(c._size for c in (tree.left, tree.right) if c)\n",
        "  #\n",
        "  def seek(self, index: int):\n",
        "    L_size = self.left and self.left._size or 0\n",
        "    if index < L_size:\n",
        "      return self.left.seek(index) if self.left else None\n",
        "    elif index > L_size:\n",
        "      return self.right.seek(index -L_size -1) if self.right else None  # yapf:disable\n",
        "    else:\n",
        "      return self\n",
        "\n",
        "# tree:   5\n",
        "#       / . \\\n",
        "#      2  .  9\n",
        "#       3 . 7\n",
        "#            8\n",
        "BTree.__repr__ = pp\n",
        "b6 = BTree(5, BTree(2, None, 3), BTree(9, BTree(7, None, 8)))\n",
        "b6_expected = (2, 3, 5, 7, 8, 9, None)\n",
        "assert b6_expected == tuple((e := b6.seek(i)) and e.data for i in range(7))"
      ],
      "metadata": {
        "id": "YiQGgS693566"
      },
      "execution_count": null,
      "outputs": []
    },
    {
      "cell_type": "code",
      "source": [
        "def track(tree, k):  # alternatively, track_LE (the lesser or the same)\n",
        "  tree.data += 1\n",
        "  if k < tree.key:\n",
        "    if tree.left:\n",
        "      track(tree.left, k)\n",
        "    else:\n",
        "      tree.left = BTree(1, key=k)\n",
        "  elif k > tree.key:\n",
        "    if tree.right:\n",
        "      track(tree.right, k)\n",
        "    else:\n",
        "      tree.right = BTree(1, key=k)\n",
        "  return tree\n",
        "\n",
        "def rank(tree, k):  # rank: 1-based.\n",
        "  if k <= tree.key:\n",
        "    return rank(tree.left, k) if tree.left else 1\n",
        "  assert k > tree.key\n",
        "  L_rank = tree.data - (tree.right and tree.right.data or 0)\n",
        "  R_rank = rank(tree.right, k) if tree.right else 1\n",
        "  return L_rank + R_rank\n",
        "\n",
        "# tree:     13(15)\n",
        "#           /\n",
        "#         4(8)\n",
        "#       /      \\\n",
        "#    2(4)       7(4)\n",
        "#    /  \\       /  \\\n",
        "# 1(2) 3(2)   6(2) 9(2)\n",
        "BTree.track, BTree.rank = track, rank\n",
        "stream = (4, 4, 2, 2, 3, 3, 1, 1, 7, 7, 6, 6, 9, 9)\n",
        "tr = reduce(lambda tr, e: tr.track(e), stream, BTree(1, key=13))\n",
        "assert [1, 1, 3, 5, 7, 9, 9, 11, 13, 13, 15] == [rank(tr, e) for e in range(11)]"
      ],
      "metadata": {
        "id": "Nqp8JYsHPs_d"
      },
      "execution_count": null,
      "outputs": []
    },
    {
      "cell_type": "markdown",
      "metadata": {
        "id": "G3xcvNZ045Zo"
      },
      "source": [
        "!! **interval tree, interval insert, inverval merge, interval extract** https://www.geeksforgeeks.org/interval-tree/\n",
        "\n",
        "* Find all overlapping intervals given a query point/interval.\n",
        "* Consolidate overlapping intervals given a list of intervals.\n",
        "* Find the minimum set of points that cover all the intervals.\n",
        "* Extract the largest contiguous interval given integer points."
      ]
    },
    {
      "cell_type": "code",
      "execution_count": null,
      "metadata": {
        "id": "Ip9uqZsB4ozT"
      },
      "outputs": [],
      "source": [
        "def overlap(intvl, query):  # returns an overlapping interval [left-, right-end].\n",
        "  ol_intvl = max(intvl[0], query[0]), min(intvl[1], query[1])\n",
        "  return ol_intvl if ol_intvl[0] <= ol_intvl[1] else None\n",
        "\n",
        "class ITree:  # an itree has _max, besides an interval, and data.\n",
        "  def __init__(self, intvl, left=None, right=None, data=None):\n",
        "    self._max = max(chain([intvl[1]], (c._max for c in (left, right) if c)))\n",
        "    self.intvl, self.left, self.right, self.data = intvl, left, right, data\n",
        "  def __getitem__(self, intvl):\n",
        "    if overlap(self.intvl, intvl):\n",
        "      yield self\n",
        "    if self.left and intvl[0] <= self.left._max:\n",
        "      yield from self.left[intvl]\n",
        "    if self.right and intvl[1] >= self.right.intvl[0]:\n",
        "      yield from self.right[intvl]\n",
        "  def __setitem__(self, intvl, data):\n",
        "    if self.intvl == intvl:\n",
        "      self.data = data\n",
        "    elif intvl[0] <= self.intvl[0]:\n",
        "      if self.left:\n",
        "        self.left[intvl] = data\n",
        "      else:\n",
        "        self.left = ITree(intvl, data=data)\n",
        "    else:\n",
        "      if self.right:\n",
        "        self.right[intvl] = data\n",
        "      else:\n",
        "        self.right = ITree(intvl, data=data)\n",
        "    self._max = max(self._max, intvl[1])\n",
        "\n",
        "Intvl = namedtuple(\"Intvl\", \"l_end, r_end\")\n",
        "Intvl.__abs__ = lambda self: abs(self.r_end+1 - self.l_end)\n",
        "\n",
        "def insert_interval(seq, new_intvl):\n",
        "  start = bisect.bisect_left(seq, new_intvl.l_end, key=lambda i: i.r_end)\n",
        "  stop = bisect.bisect_right(seq, new_intvl.r_end, key=lambda i: i.l_end)\n",
        "  if stop > start:\n",
        "    l_end = min(new_intvl.l_end, seq[start].l_end)\n",
        "    r_end = max(new_intvl.r_end, seq[stop-1].r_end)\n",
        "    new_intvl = Intvl(l_end, r_end)\n",
        "  seq[start:stop] = [new_intvl]\n",
        "  return seq\n",
        "\n",
        "def unify_intervals(seq):  # consolidate, merge intervals in L.\n",
        "  it = iter(sorted(map(Intvl._make, seq)))  # iter in lexicographical order!\n",
        "  unified = list(islice(it, 1))  # list(islice(it, 1)) vs. next(it, None)!\n",
        "  for intvl in it:\n",
        "    if intvl.l_end <= (u_r_end := unified[-1].r_end):\n",
        "      unified[-1] = Intvl(unified[-1].l_end, max(u_r_end, intvl.r_end))\n",
        "    else:\n",
        "      unified.append(intvl)\n",
        "  return unified\n",
        "\n",
        "def fewest_points_covering_intervals(L):  # points that cover intervals in L.\n",
        "  L = sorted(map(Intvl._make, L))\n",
        "  points = []\n",
        "  for intvl in L:\n",
        "    if not points or points[-1] < intvl.l_end:\n",
        "      points.append(intvl.r_end)\n",
        "  return points\n",
        "\n",
        "# https://leetcode.com/problems/longest-consecutive-sequence/\n",
        "def extract_largest_contiguous_intervals(*L):  # for longest contiguous ranges.\n",
        "  ranges = {}\n",
        "  for point in set(L):  # same as dedupe(L).\n",
        "    start, stop = point + ranges.pop(point, 0), point+1 + ranges.pop(point+1, 0)\n",
        "    stride = stop - start\n",
        "    ranges[start], ranges[stop] = stride, -stride\n",
        "  return [(l_end, l_end + stride)\n",
        "          for l_end, stride in maxima(ranges.items(), key=lambda e: e[1])]\n",
        "\n",
        "assert [(7, 11)] == extract_largest_contiguous_intervals(3, 1, 9, 7, 2, 8, 10)\n",
        "assert [(0, 3), (5, 13)] == unify_intervals([(0, 2), (1, 3), (5, 13), (9, 11)])\n",
        "assert [(0, 13)] == unify_intervals([[0, 9], [1, 5], [3, 7], [9, 13]])\n",
        "assert [(0, 0)] == unify_intervals([(0, 0)])\n",
        "assert [] == unify_intervals([])\n",
        "L = [Intvl(*e) for e in [(-3, -1), (2, 5), (7, 8)]]\n",
        "assert [(-5, -4)] + L == insert_interval(L[:], Intvl(-5, -4))\n",
        "assert L[:1] + [(0, 1)] + L[1:] == insert_interval(L[:], Intvl(0, 1))\n",
        "assert [(-3, 0)] + L[1:] == insert_interval(L[:], Intvl(-2, 0))\n",
        "assert L[:1] + [(1, 5)] + L[2:] == insert_interval(L[:], Intvl(1, 3))\n",
        "assert [(-3, 5), (7, 8)] == insert_interval(L[:], Intvl(-2, 3))\n",
        "assert L == insert_interval(L[:], Intvl(3, 4))\n",
        "assert L + [(9, 9)] == insert_interval(L[:], Intvl(9, 9))\n",
        "assert [3, 9] == fewest_points_covering_intervals([[0, 3], [2, 6], [3, 4], [6, 9]])\n",
        "\n",
        "tree = ITree((15, 20))\n",
        "for intvl in ((10, 25), (5, 20), (12, 15), (17, 19), (30, 40)):\n",
        "  tree[intvl] = None\n",
        "assert ((10, 25), (5, 20)) == tuple(e.intvl for e in tree[(4, 11)])\n",
        "assert ((10, 25), (30, 40)) == tuple(e.intvl for e in tree[(21, 30)])\n",
        "\n",
        "assert (2, 3) == overlap((1, 3), (2, 4))\n",
        "assert (2, 3) == overlap((2, 4), (1, 3))\n",
        "assert (2, 3) == overlap((1, 4), (2, 3))\n",
        "assert (2, 3) == overlap((2, 3), (1, 4))\n",
        "assert (3, 3) == overlap((2, 3), (3, 4))\n",
        "assert overlap((1, 2), (3, 4)) is None"
      ]
    },
    {
      "cell_type": "markdown",
      "metadata": {
        "id": "XT3jcnwsOvrR"
      },
      "source": [
        "!! **KD tree, search closest, nearest** Find the 3 closest police stations near each branch office in a city."
      ]
    },
    {
      "cell_type": "code",
      "execution_count": null,
      "metadata": {
        "id": "AgDwmX_AOR_b"
      },
      "outputs": [],
      "source": [
        "def kdtree_from_points(cls, points, axis=0, start=0, stop=None):\n",
        "  if stop is None:\n",
        "    stop = len(points)\n",
        "  if stop > start:\n",
        "    axis %= len(points[0])\n",
        "    points[start:stop] = sorted(points[start:stop], key=lambda e: e[axis])\n",
        "    mid = (start+stop-1) // 2  # mid becomes start, when stop-start-2.\n",
        "    L = kdtree_from_points(cls, points, axis+1, start, mid)\n",
        "    R = kdtree_from_points(cls, points, axis+1, mid+1, stop)\n",
        "    return cls(points[mid], axis, L, R, mid)\n",
        "\n",
        "class KdTree:\n",
        "  @property\n",
        "  def data(self):\n",
        "    return self.point if self.data_ is None else self.data_\n",
        "  def __init__(self, point, axis=0, left=None, right=None, data=None):\n",
        "    self.point, self.axis, self.left, self.right, self.data_ = point, axis, left, right, data\n",
        "\n",
        "def sq_distance(one, another):  # SED, squared euclidean distance.\n",
        "  return sum((e - another[i])**2 for i, e in enumerate(one))\n",
        "\n",
        "def search_kd(tree, query, n=1):\n",
        "  def proc(tree, heap):\n",
        "    if tree:\n",
        "      heappush(heap, (-sq_distance(tree.point, query), tree.data))\n",
        "      while len(heap) > n:\n",
        "        heappop(heap)\n",
        "\n",
        "      nearer, farther = tree.left, tree.right\n",
        "      if (ax_diff := query[tree.axis] - tree.point[tree.axis])>0:\n",
        "        nearer, farther = tree.right, tree.left\n",
        "      proc(nearer, heap)\n",
        "      if len(heap) < n or -heap[0][0] > ax_diff**len(tree.point):\n",
        "        proc(farther, heap)\n",
        "      return heap\n",
        "\n",
        "  nearest_n = sorted(proc(tree, []), key=lambda e: -e[0])  # -e[0]: sq distance.\n",
        "  return tuple((round(sqrt(-sq_d), 1), i) for sq_d, i in nearest_n)\n",
        "\n",
        "KdTree.__repr__ = pp\n",
        "KdTree.from_points = classmethod(kdtree_from_points)\n",
        "\n",
        "points = [(-10.1, 10.1), (12.2, -5.2), (5.3, 38.3), (-179.9, 10.9), (0.0, 0.0)]\n",
        "tree = KdTree.from_points(points)\n",
        "nearest_3 = tuple((d, points[i]) for d, i in search_kd(tree, (1, 2), 3))\n",
        "assert ((2.2, (0.0, 0.0)), (13.3, (12.2, -5.2)), (13.7, (-10.1, 10.1))) == nearest_3"
      ]
    },
    {
      "cell_type": "markdown",
      "metadata": {
        "id": "gWhPsWIlaybc"
      },
      "source": [
        "16.1 Write a program to swap two numbers in-place without using additional variables.  \n",
        "16.2 Write a program to find the frequency of occurrences of any given word in a book.  \n",
        "16.3 Given two line segments, write a program to identify the point, where they cross each other.  \n",
        "16.4 Write a program to test if a player has won a tic-tac-toe game.  \n",
        "16.5 Write a method to compute the number of trailing zeros in n factorial.\n",
        "```python\n",
        "zeros = lambda n: (q := n // 5) + (zeros(q) if q > 4 else 0)  # quotient!\n",
        "assert (0, 1, 4, 6, 18) == tuple(zeros(n) for n in (4, 5, 24, 25, 75))\n",
        "```\n",
        "16.6 Given two integer arrays, find the pair of integers (one from each array) with the smallest absolute difference. How about sorting and scanning two arrays?  \n",
        "16.7 Write a program that finds the maximum of two numbers. Do not use if-else and comparisons.  "
      ]
    },
    {
      "cell_type": "markdown",
      "metadata": {
        "id": "gJZowIjzNT1t"
      },
      "source": [
        "!! **Spell out an English number** 16.8 Spell out English words for numerical figures. Write \"One Thousand Two Hundred Thirty Four\" for 1234."
      ]
    },
    {
      "cell_type": "code",
      "execution_count": null,
      "metadata": {
        "id": "F8IZsFnnNN-x"
      },
      "outputs": [],
      "source": [
        "digits = [None, \"One\", \"Two\", \"Three\", \"Four\", \"Five\", \"Six\", \"Seven\", \"Eight\", \"Nine\"]\n",
        "teens = [\"Ten\", \"Eleven\", \"Twelve\", \"Thirteen\", \"Fourteen\", \"Fifteen\", \"Sixteen\", \"Seventeen\", \"Eighteen\", \"Nineteen\"]  # yapf:disable\n",
        "tens = [None, None, \"Twenty\", \"Thirty\", \"Forty\", \"Fifty\", \"Sixty\", \"Seventy\", \"Eighty\", \"Ninety\"] # yapf:disable\n",
        "bigs = [None, \"Thousand\", \"Million\"]\n",
        "\n",
        "def read(d, x1000=0):  # yield from chain([\"Negative\"], read(-d, x1000))\n",
        "  if d==0 and x1000==0:  # not to read 1000 as \"Thousand Zero\".\n",
        "    yield \"Zero\"\n",
        "  elif d:\n",
        "    yield from read(d//1000, x1000+1)\n",
        "    yield from read3d(d % 1000)\n",
        "    if x1000:\n",
        "      yield bigs[x1000]\n",
        "\n",
        "def read3d(d):\n",
        "  if d>=100:\n",
        "    yield from chain([digits[d//100], \"Hundred\"], read3d(d % 100))\n",
        "  elif d>=20:\n",
        "    yield from chain([tens[d//10]], read3d(d % 10))\n",
        "  elif d>=10:\n",
        "    yield teens[d-10]\n",
        "  elif d:\n",
        "    yield digits[d]\n",
        "\n",
        "assert \"Zero\" == \"\".join(read(0))\n",
        "assert \"Ten Million Two Hundred Twelve Thousand Eleven\" == \" \".join(read(10212011))\n",
        "assert \"Negative Twenty Million One Hundred One Thousand\" == \" \".join(read(-20101000))"
      ]
    },
    {
      "cell_type": "markdown",
      "metadata": {
        "id": "eoFXbffRCRAK"
      },
      "source": [
        "16.9 Create functions to perform multiplication, subtraction, and division on integers. You can only use additions."
      ]
    },
    {
      "cell_type": "markdown",
      "metadata": {
        "id": "La6Q7mDDKDjM"
      },
      "source": [
        "16.10 Given a list of people and their birth and death years, calculate the year with the maximum number of living individuals.\n",
        "\n"
      ]
    },
    {
      "cell_type": "code",
      "execution_count": null,
      "metadata": {
        "id": "m-mZkSG8fbm2"
      },
      "outputs": [],
      "source": [
        "# @title ##### 16.11 Given two different lengths of wooden planks, short and long, and a specific number of planks K, find all possible total lengths of a diving board that can be constructed using exactly K planks. Each plank used must be either short or long.\n",
        "def diving_boards(k: int, short: int, long_: int):\n",
        "  @lru_cache(maxsize=None)\n",
        "  def prog(k_planks: int, s_planks, l_planks):\n",
        "    if k_planks==0:\n",
        "      yield 0\n",
        "    else:\n",
        "      yield from chain(\n",
        "          (e + short for e in prog(k_planks-1, s_planks+1, l_planks)),\n",
        "          (e + long_ for e in prog(k_planks-1, s_planks, l_planks+1)),\n",
        "      )\n",
        "\n",
        "  yield from prog(k, 0, 0)\n",
        "\n",
        "assert [6, 7, 8, 9] == list(diving_boards(3, 2, 3))"
      ]
    },
    {
      "cell_type": "markdown",
      "metadata": {
        "id": "RxyR1FN0gwmM"
      },
      "source": [
        "16.12 Given an XML document and a mapping of XML tags to integer values, write a program that compresses an XML doc with encoding rules.\n",
        "* Element: Tag Attributes END Children END\n",
        "* Attribute: Tag Value\n",
        "* END: 0\n",
        "* Tag: A predefined integer mapping, e.g., family -> 1, person ->2, firstName -> 3, lastName -> 4, state\n",
        "* Value: A string value\n"
      ]
    },
    {
      "cell_type": "markdown",
      "metadata": {
        "id": "focJ2oLYiW4i"
      },
      "source": [
        "16.13 Given two squares on a 2D plane, find a line that would cut these two squares in half. Each square has top and bottom sides running parallel to the x-axis.  \n",
        "16.14 Given a set of points on a 2D plane, find the line that passes through the maximum number of points.  "
      ]
    },
    {
      "cell_type": "code",
      "execution_count": null,
      "metadata": {
        "id": "xvEl5Hyl3x7r"
      },
      "outputs": [],
      "source": [
        "# @title ##### 16.15 Imagine a secret code with four colors: Red (R), Yellow (Y), Green (G), and Blue (B). A game player tries to guess the secret code by picking four colors. Scores are given as a hit, if the color and the place both are right, or a pseudo-hit, if the color is right, but the place is not right.\n",
        "def score(codes, guess):\n",
        "  i_hits = {i for i, c, g in zip(range(4), codes, guess) if c == g}\n",
        "  c_codes = Counter(c for i, c in enumerate(codes) if i not in i_hits)\n",
        "  c_guess = Counter(g for i, g in enumerate(guess) if i not in i_hits)\n",
        "  return len(i_hits), sum(min(h, c_codes.get(g, 0)) for g, h in c_guess.items())\n",
        "\n",
        "score(\"RGBY\", \"GGRR\")"
      ]
    },
    {
      "cell_type": "markdown",
      "metadata": {
        "id": "2TxHpDdvP-aP"
      },
      "source": [
        "!! **slice unsorted subarray, sum rainwater, outline, skyline**\n",
        "\n",
        "16.16 Given an array, find a subarray that, when sorted, sorts the entire array.  \n",
        "17.21: Given n non-negative integers representing an elevation map where the width of each bar is 1, compute how much water it is able to trap after raining. For example, given [0,1,0,2,1,0,1,3,2,1,2,1], return 6."
      ]
    },
    {
      "cell_type": "code",
      "execution_count": null,
      "metadata": {
        "id": "mA6ctryTpjEY"
      },
      "outputs": [],
      "source": [
        "def slice_unsorted_subarray(*L):  # scan forward, backward to see where to start, stop.\n",
        "  def renumerate(it, stop=None):  # stop: defaults to the length of iterable.\n",
        "    (R := list(it)).reverse()\n",
        "    return zip(count(stop or len(R), -1), R)\n",
        "\n",
        "  L_cummax = zip(L, accumulate(L, max))  # to see max_a: max ahead.\n",
        "  stop = next((stop for stop, (e, max_a) in renumerate(L_cummax) if e < max_a), 0)\n",
        "  L_cummin = zip(L, reversed(list(accumulate(reversed(L), min))))  # min_a: min ahead.\n",
        "  start = next((start for start, (e, min_a) in enumerate(L_cummin) if e > min_a), 0)\n",
        "  return slice(start, stop)\n",
        "\n",
        "assert slice(0, 0) == slice_unsorted_subarray()\n",
        "assert slice(0, 0) == slice_unsorted_subarray(1)\n",
        "assert slice(0, 0) == slice_unsorted_subarray(1, 3)\n",
        "assert slice(0, 2) == slice_unsorted_subarray(2, 1, 3)\n",
        "assert slice(1, 4) == slice_unsorted_subarray(0, 2, 3, 1, 4)\n",
        "assert slice(3, 5) == slice_unsorted_subarray(0, 1, 1, 2, 1)"
      ]
    },
    {
      "cell_type": "code",
      "execution_count": null,
      "metadata": {
        "id": "vpI02fDXdD8K"
      },
      "outputs": [],
      "source": [
        "def produce_outline(blocks_by_L):  # to produce a skyline given building blocks.\n",
        "  blocks_by_R = []  # k_block: right, block\n",
        "  blocks_by_H = []  # k_block: -height, block\n",
        "  exited = set()  # blocks exited.\n",
        "  y_line = 0\n",
        "  while blocks_by_L or blocks_by_R:\n",
        "    cases = (\n",
        "        blocks_by_L and blocks_by_L[0].key,  #\n",
        "        blocks_by_R and blocks_by_R[0].key)\n",
        "    x_line = min(filter(None, cases))  # also called x-location.\n",
        "    while blocks_by_R and x_line == blocks_by_R[0].key:  # block exits\n",
        "      exited.add(heappop(blocks_by_R).block)\n",
        "    while blocks_by_L and x_line == blocks_by_L[0].key:  # block entries.\n",
        "      _, block = blocks_by_L.popleft()\n",
        "      heappush(blocks_by_R, kBlock(block.right, block))\n",
        "      heappush(blocks_by_H, kBlock(-block.Ht, block))\n",
        "    while blocks_by_H and blocks_by_H[0].block in exited:  # tidy up heights.\n",
        "      exited.remove(heappop(blocks_by_H).block)\n",
        "    if y_line != (h := -blocks_by_H[0].key if blocks_by_H else 0):\n",
        "      yield (x_line, (y_line := h))  # yield a cross-point of x and y lines.\n",
        "\n",
        "Block = namedtuple(\"Block\", \"left, Ht, right\")\n",
        "kBlock = namedtuple(\"kBlock\", \"key block\")  # a sort key, a block.\n",
        "buildings = ((1, 9, 3), (1, 11, 5), (2, 6, 7), (3, 13, 9), (12, 7, 16),  #\n",
        "             (14, 3, 25), (19, 18, 22), (23, 13, 29), (24, 4, 28))\n",
        "buildings = deque(kBlock(b[0], Block(*b)) for b in buildings)\n",
        "expected = ((1, 11), (3, 13), (9, 0), (12, 7), (16, 3), (19, 18), (22, 3), (23, 13), (29, 0))  # yapf:disable\n",
        "assert expected == tuple(produce_outline(buildings))"
      ]
    },
    {
      "cell_type": "code",
      "execution_count": null,
      "metadata": {
        "id": "sU0Xy-b6ti-l"
      },
      "outputs": [],
      "source": [
        "# @title ##### 16.17 Given an array of integers (both positive and negative), write a program to find the max sum sub-array (contiguous sequence)."
      ]
    },
    {
      "cell_type": "code",
      "execution_count": null,
      "metadata": {
        "id": "l3WpGIFq-9aY"
      },
      "outputs": [],
      "source": [
        "# @title ##### 16.18 Pattern Matching : You are given two strings, pattern and value.The pattern string consists of just the letters aand b, describing a pattern within a string. For example, the string catcatgocatgomatches the pattern aabab(where catis aand gois b). It also matches patterns like a, ab, and b. Write a method to determine if value matches pattern.\n",
        "def match(text: str, pattern: str):\n",
        "  def prog(T, start, stop, **kwargs):\n",
        "    if stop == start:\n",
        "      if T == \"\":\n",
        "        yield kwargs\n",
        "    else:\n",
        "      c = pattern[start]\n",
        "      if lead := kwargs.get(c, None):\n",
        "        if T.startswith(lead):\n",
        "          yield from prog(T[len(lead):], start+1, stop, **kwargs)\n",
        "      else:\n",
        "        m = len(T)\n",
        "        for k in range((m+1) // pattern[start:stop].count(c), 1, -1):\n",
        "          lead, tail = T[:k], T[k:]\n",
        "          yield from prog(tail, start+1, stop, **(kwargs | {c: lead}))\n",
        "\n",
        "  yield from prog(text, 0, len(pattern))\n",
        "\n",
        "# list(match(\"catcatgocatgo\", \"a\"))\n",
        "# list(match(\"catcatgocatgo\", \"ab\"))\n",
        "# list(match(\"catcatgocatgo\", \"aba\"))\n",
        "# list(match(\"catcatgocatgo\", \"aabab\"))"
      ]
    },
    {
      "cell_type": "markdown",
      "metadata": {
        "id": "mf5UCP-5fjBb"
      },
      "source": [
        "16.19 Pond Sizes: You have an integer matrix representing a plot of land, where the value at that location\n",
        "represents the height above sea level. A value of zero indicates water. A pond is a region of water\n",
        "connected vertically, horizontally, or diagonally. The size of the pond is the total number of\n",
        "connected water cells. Write a method to compute the sizes of all ponds in the matrix.\n",
        "EXAMPLE\n",
        "Input:\n",
        "0 2 1 0\n",
        "0 1 0 1\n",
        "1 1 0 1\n",
        "0 1 0 1\n",
        "Output: 2, 4, 1 (in any order)"
      ]
    },
    {
      "cell_type": "code",
      "execution_count": null,
      "metadata": {
        "id": "aQPeGc-E9AS2"
      },
      "outputs": [],
      "source": [
        "# @title ##### 16.21 Given two integer arrays, find two integers (one from each array) that can be swapped to equalize their sums.\n",
        "lhs, rhs = [1, 2, 3, 5], [4, 5, 6]\n",
        "q, r = divmod(sum(lhs) - sum(rhs), 2)\n",
        "assert r == 0\n",
        "matcher, seen = {q+e for e in rhs}, set()\n",
        "for e in lhs:\n",
        "  if e in matcher and e not in seen:\n",
        "    print((e, e-q))\n",
        "    seen |= {e}"
      ]
    },
    {
      "cell_type": "code",
      "execution_count": null,
      "metadata": {
        "id": "leEyWck898Nd"
      },
      "outputs": [],
      "source": [
        "# @title ##### 16.22 An ant starts on an infinite grid of alternating white and black squares, facing right. At each step:\n",
        "# On a white square, it flips the color, turns 90° clockwise, and moves forward.\n",
        "# On a black square, it flips the color, turns 90° counterclockwise, and moves forward.\n",
        "# Write a program to simulate the ant's movement for K steps and print the final grid configuration.\n",
        "# The grid structure must be designed by you. The input is the integer K, and the program should print the grid without returning anything.\n",
        "# A possible method signature is void printKMoves(int K)."
      ]
    },
    {
      "cell_type": "code",
      "execution_count": null,
      "metadata": {
        "id": "4GSAKzcjiP3l"
      },
      "outputs": [],
      "source": [
        "# @title ##### 16.23 Given a function rand5() that generates a random number between 1 and 5 (inclusive), write a function that generates a random number between 1 and 7 (inclusive).\n",
        "def rand5():\n",
        "  import random\n",
        "  return random.randrange(5) + 1\n",
        "\n",
        "def rand7():\n",
        "  rand25 = 22\n",
        "  while rand25 > 21:  # [1, 21]\n",
        "    rand25 = 5 * (rand5() - 1) + rand5()  # [1, 25]\n",
        "  return rand25 % 7 + 1  # [1, 7].\n",
        "\n",
        "from collections import Counter\n",
        "c = Counter(rand7() for _ in range(7000))\n",
        "assert all(900 < e < 1100 for e in c.values())"
      ]
    },
    {
      "cell_type": "code",
      "execution_count": null,
      "metadata": {
        "cellView": "form",
        "id": "tsV4kfSR1Z-E"
      },
      "outputs": [],
      "source": [
        "# @title ##### 16.24 Find all pairs from integers, which sum to integer x.\n",
        "def find_pair_sum(L, pair_sum):  # find distinct pairs; (1, 2), and (2, 1) are dups.\n",
        "  matcher = set()\n",
        "  seen = set()\n",
        "  for e in L:\n",
        "    if e in matcher and e not in seen:\n",
        "      pair = tuple(sorted((e, pair_sum - e)))\n",
        "      seen |= {*pair}\n",
        "      yield pair\n",
        "    else:\n",
        "      matcher |= {pair_sum - e}\n",
        "\n",
        "assert [(1, 2), (0, 3)] == list(find_pair_sum([1, 2, 3, 1, 0, -1], 3))"
      ]
    },
    {
      "cell_type": "markdown",
      "metadata": {
        "id": "fhsBNIdCML-4"
      },
      "source": [
        "!! **LRU cache, circular buffer** 16.25 Design an LRU cache with a max size, that evicts the least recently used when full. You can assume the keys are integers and the values are strings."
      ]
    },
    {
      "cell_type": "code",
      "execution_count": null,
      "metadata": {
        "id": "x2-YQeXmlxY_"
      },
      "outputs": [],
      "source": [
        "class DNode:\n",
        "  def __init__(self, data, prev=None, next_=None):\n",
        "    self.data, self.prev, self.next = data, prev, next_\n",
        "  def __iter__(self):\n",
        "    node = self\n",
        "    while node:\n",
        "      yield node\n",
        "      node = node.next\n",
        "  def __reversed__(self):\n",
        "    node = self\n",
        "    while node:\n",
        "      yield node\n",
        "      node = node.prev\n",
        "\n",
        "class LRUCache:\n",
        "  def __init__(self, capacity=1):\n",
        "    self.capacity = capacity\n",
        "    self.dmap = {}\n",
        "    self.head = self.tail = None\n",
        "  def __setitem__(self, k, v):\n",
        "    if k in self.dmap:\n",
        "      self.pop(self.dmap[k])\n",
        "    self.append(DNode((k, v)))\n",
        "    self.dmap[k] = self.tail\n",
        "    while len(self.dmap) > self.capacity:\n",
        "      del self.dmap[self.pop(self.head).data[0]]\n",
        "  def __getitem__(self, k):\n",
        "    if k in self.dmap:\n",
        "      self.append(self.pop(self.dmap[k]))\n",
        "      return self.tail.data[1]\n",
        "  def append(self, node):  # wires up 4 links.\n",
        "    node.next, node.prev = None, self.tail\n",
        "    if self.tail:\n",
        "      self.tail.next, self.tail = node, node\n",
        "    else:  # was empty.\n",
        "      self.head = self.tail = node\n",
        "  def pop(self, node) -> DNode:  # wires up 2, 3, or 4 links\n",
        "    if node.prev:\n",
        "      node.prev.next = node.next\n",
        "    else:  # was head.\n",
        "      self.head = self.head.next\n",
        "      self.head.prev = None\n",
        "    if node.next:\n",
        "      node.next.prev = node.prev\n",
        "    else:  # was tail.\n",
        "      self.tail = self.tail.prev\n",
        "      self.tail.next = None\n",
        "    return node\n",
        "\n",
        "DNode.__repr__ = pp\n",
        "lru = lambda lru: tuple(e.data for e in lru.head)\n",
        "mru = lambda lru: tuple(e.data for e in reversed(lru.tail))\n",
        "c = LRUCache(capacity=3)\n",
        "c[1], c[2], c[3] = \"a\", \"b\", \"c\"\n",
        "assert \"a\" == c[1]\n",
        "assert ((2, \"b\"), (3, \"c\"), (1, \"a\")) == lru(c)\n",
        "assert ((1, \"a\"), (3, \"c\"), (2, \"b\")) == mru(c)\n",
        "assert \"b\" == c[2]\n",
        "c[4], c[5] = \"d\", \"e\"\n",
        "assert ((2, \"b\"), (4, \"d\"), (5, \"e\")) == lru(c)\n",
        "assert ((5, \"e\"), (4, \"d\"), (2, \"b\")) == mru(c)"
      ]
    },
    {
      "cell_type": "code",
      "execution_count": null,
      "metadata": {
        "id": "Mc_iHrRMje1m"
      },
      "outputs": [],
      "source": [
        "|class CircularBuffer:  # http://www.programiz.com/python-programming/exceptions\n",
        "  def __init__(self, capacity):  # 1 slot is reserved for simpler full, empty logic.\n",
        "    self._L = [None] * (capacity+1)\n",
        "    self._head = self._tail = 0\n",
        "  def enq(self, v):\n",
        "    if self.full():\n",
        "      raise RuntimeError(\"This buffer is full.\")\n",
        "    self._L[self._tail] = v\n",
        "    self._tail = (self._tail+1) % len(self._L)\n",
        "    return self\n",
        "  def deq(self):\n",
        "    if self.empty():\n",
        "      raise RuntimeError(\"This buffer is empty.\")\n",
        "    v = self._L[self._head]\n",
        "    self._head = (self._head+1) % len(self._L)\n",
        "    return v\n",
        "\n",
        "CircularBuffer.empty = lambda self: self._head == self._tail\n",
        "CircularBuffer.full = lambda self: self._head == (self._tail+1) % len(self._L)\n",
        "\n",
        "buffer = CircularBuffer(3)\n",
        "assert buffer.empty() and not buffer.full()\n",
        "assert buffer.enq(10).enq(20).enq(30).full()\n",
        "try:\n",
        "  buffer.enq(40)\n",
        "except RuntimeError:\n",
        "  pass\n",
        "assert [10, 20, 30] == [buffer.deq() for _ in range(3)]\n",
        "assert buffer.empty()\n",
        "try:\n",
        "  buffer.deq()\n",
        "except RuntimeError:\n",
        "  pass"
      ]
    },
    {
      "cell_type": "markdown",
      "metadata": {
        "id": "eXC7JVbBgb3A"
      },
      "source": [
        "!! **consume, evaluate postfix (RPN), produce postfix (RPN)** 16.26 Evaluate an arithmetic expression with positive integers and the four basic operations."
      ]
    },
    {
      "cell_type": "code",
      "source": [
        "def evaluate_postfix(q):  # consumes a rpn Q: reverse polish notation.\n",
        "  op_stack = []\n",
        "  for e in q:\n",
        "    print(f\">> {op_stack=}\")\n",
        "    if e in op_prec:\n",
        "      lhs, rhs = op_stack.pop(), op_stack.pop()\n",
        "      print(f\"?? {lhs}{e}{rhs}\")  # BUG?\n",
        "      e = eval(f\"{lhs}{e}{rhs}\")  # BUG?\n",
        "    op_stack.append(e)\n",
        "    print(f\"<< {op_stack=}\")\n",
        "  return op_stack.pop()\n"
      ],
      "metadata": {
        "id": "dbzN_mt1Vgyn"
      },
      "execution_count": null,
      "outputs": []
    },
    {
      "cell_type": "code",
      "execution_count": null,
      "metadata": {
        "id": "CYgpm6z7iQCJ"
      },
      "outputs": [],
      "source": [
        "op_prec = {\"*\": 1, \"/\": 1, \"+\": 2, \"-\": 2, \"(\": 3}  # precedence\n",
        "\n",
        "def produce_postfix(infix):  # produces a postfix, rpn, reverse polish notation.\n",
        "  q, op_stack, digits = [], [], []\n",
        "  for e in infix:\n",
        "    if not e.isdigit() and digits:\n",
        "      yield \"\".join(digits)\n",
        "      digits.clear()\n",
        "    if e.isdigit():\n",
        "      digits.append(e)\n",
        "    elif e == \"(\":\n",
        "      op_stack.append(e)\n",
        "    elif e == \")\":\n",
        "      while op_stack and op_stack[-1] != \"(\":\n",
        "        yield op_stack.pop()\n",
        "      op_stack.pop()  # Remove \"(\"\n",
        "    elif e in op_prec:\n",
        "      while op_stack and op_prec.get(op_stack[-1], float('-inf')) <= op_prec[e]:\n",
        "        yield op_stack.pop()\n",
        "      op_stack.append(e)\n",
        "\n",
        "  if digits:\n",
        "    yield \"\".join(digits)\n",
        "  yield from reversed(op_stack)\n",
        "\n",
        "def evaluate_postfix(q):  # consumes a rpn Q: reverse polish notation.\n",
        "  op_stack = []\n",
        "  for e in q:\n",
        "    if e in op_prec:\n",
        "      lhs, rhs = op_stack.pop(), op_stack.pop()\n",
        "      e = eval(f\"{lhs}{e}{rhs}\")\n",
        "    op_stack.append(e)\n",
        "  return op_stack.pop()\n",
        "\n",
        "infix = \"2*3+14+(2*3+4)*2\"\n",
        "assert \"23*14+23*4+2*+\" == \"\".join(produce_postfix(infix))\n",
        "assert 40 == evaluate_postfix(produce_postfix(infix))"
      ]
    },
    {
      "cell_type": "code",
      "execution_count": null,
      "metadata": {
        "id": "WBtXnHyassLd"
      },
      "outputs": [],
      "source": [
        "# @title ##### 18.1 Write a functions that adds two numbers. You should not use the addition (+) arithmetic operator.\n",
        "def sum_(a, b):  # a: ones, b: carries\n",
        "  return sum_(a ^ b, (a & b)<<1) if b>0 else a\n",
        "\n",
        "assert 10 == sum_(7, 3)"
      ]
    },
    {
      "cell_type": "markdown",
      "metadata": {
        "id": "SQKmK57KhHQc"
      },
      "source": [
        "!! **random shuffle, reservoir_samples, weighted choice**\n",
        "\n",
        "18.2 Write a function to shuffle a deck of cards. Each of the 52! permutations of the deck has to be equally probable.  \n",
        "18.3 Write a function to randomly sample m integers out of n integers. Each element must have equal probability of being chosen."
      ]
    },
    {
      "cell_type": "code",
      "execution_count": null,
      "metadata": {
        "id": "ELenl3u9H4gR"
      },
      "outputs": [],
      "source": [
        "class Deck:\n",
        "  def __init__(self, n):\n",
        "    self.n_cards = n\n",
        "    self.swapped = {}\n",
        "  def cards(self):\n",
        "    while self.n_cards>0:\n",
        "      r = random.randrange(self.n_cards)\n",
        "      yield self.swapped.get(r, r)\n",
        "      self.swapped[r] = self.swapped.pop(self.n_cards-1, self.n_cards-1)\n",
        "      self.n_cards -= 1\n",
        "\n",
        "def fisher_yates_shuffle(L):\n",
        "  n = len(L)\n",
        "  for i in range(n-1):\n",
        "    j = i + random.randrange(n - i)  # j is in [i, n-1] from i + [0, n-i-1].\n",
        "    L[j], L[i] = L[i], L[j]\n",
        "  return L\n",
        "\n",
        "def reservoir_samples(iterable, k):\n",
        "  samples = []\n",
        "  count = 0\n",
        "  for e in iterable:\n",
        "    count += 1\n",
        "    if len(samples) < k:\n",
        "      samples.append(e)\n",
        "    elif (i := random.randrange(count)) < k:\n",
        "      samples[i] = e\n",
        "  return samples\n",
        "\n",
        "def weighted_choice(weights):\n",
        "  rand = random.randrange((cumsum := tuple(accumulate(weights)))[-1])\n",
        "  return next(i for i, e in enumerate(cumsum) if rand < e)\n",
        "\n",
        "assert list(range(9)) == sorted(Deck(9).cards())\n",
        "assert 3 == len(reservoir_samples(iter(range(100)), 3))\n",
        "weights = [20, 30, 50]\n",
        "c = Counter(weighted_choice(weights) for _ in range(1000))\n",
        "sorted(c.items(), key=lambda k: c[k])"
      ]
    },
    {
      "cell_type": "code",
      "execution_count": null,
      "metadata": {
        "id": "eK-3SyPyK9ZX"
      },
      "outputs": [],
      "source": [
        "# @title ##### 17.5 Find the longest subarray that has an equal number of letters and digits.\n",
        "def longest_subarray_with_alpha_nums_balanced(s):\n",
        "  cumsum = accumulate(([-1, 1][c.isalpha()] for c in s), initial=0)\n",
        "  maxima, max_key = [], 0\n",
        "  indices = {}  # indices keyed by a cunsum, whenever you see the same cumsum.\n",
        "  for stop, sum_ in enumerate(cumsum, 0):\n",
        "    if (start := indices.get(sum_, -1)) > -1:\n",
        "      if (key := stop - indices[sum_]) > max_key:\n",
        "        maxima, max_key = [(start, stop)], key\n",
        "      elif key == max_key:\n",
        "        maxima.append((start, stop))\n",
        "    else:\n",
        "      indices[sum_] = stop\n",
        "  return maxima\n",
        "\n",
        "assert [(0, 4), (3, 7)] == longest_subarray_with_alpha_nums_balanced(\"a12b55c\")"
      ]
    },
    {
      "cell_type": "code",
      "execution_count": null,
      "metadata": {
        "id": "Pz3lKT8jzjs2"
      },
      "outputs": [],
      "source": [
        "# @title ##### 17.6 Write a function to count the number of 2s between O and n.\n",
        "def count_2s_upto_e(b):  # 1 up to E+1, 20 up to E+2, 300 up to E+3.\n",
        "  return b * 10 ** (b - 1)\n",
        "\n",
        "def count_2s_upto(n):\n",
        "  count, e, p = 0, 0, n  # preceding(p) precedes number(n).\n",
        "  while p > 0:\n",
        "    d = p % 10  # we look at a digit (rE+e) in each iteration.\n",
        "    count += d * count_2s_upto_e(e)\n",
        "    if d > 3:\n",
        "      count += 10**e  # e.g., count += 100 for [200, 299], when p >299 and e=2\n",
        "    if d == 2:\n",
        "      count += n % 10**e + 1  # e.g., count += 56 for [200, 255], when n: x255, e: 2.\n",
        "    p //= 10\n",
        "    e += 1\n",
        "  return count\n",
        "\n",
        "assert 1 == count_2s_upto(9)\n",
        "assert 20 == count_2s_upto(99)\n",
        "assert 300 == count_2s_upto(999)\n",
        "assert 3059 == count_2s_upto(6789)"
      ]
    },
    {
      "cell_type": "code",
      "execution_count": null,
      "metadata": {
        "id": "ILrccbYDikQC"
      },
      "outputs": [],
      "source": [
        "# @title ##### 17.7 Each year, the government releases a list of the 10,000 most common baby names and their frequencies. Some names, like \"John\" and \"Jon,\" are variations of the same name but are listed separately. Given two lists—one with names and frequencies, and another with equivalent name pairs—design an algorithm to consolidate frequencies for equivalent names. If \"John\" is equivalent to \"Jon,\" and \"Jon\" to \"Johnny,\" all three are treated as equivalent (transitive and symmetric relationship). The final list should group equivalent names and use any as the primary name.\n",
        "def consolidate_baby_names(counter, synonyms):\n",
        "  id_map = {}\n",
        "  for lhs, rhs in synonyms:\n",
        "    lhs_id, rhs_id = id_map.setdefault(lhs, lhs), id_map.setdefault(rhs, rhs)\n",
        "    if lhs_id != rhs_id:\n",
        "      id_ = \":\".join(sorted(lhs_id.split(\":\") + rhs_id.split(\":\")))\n",
        "      for name in id_.split(\":\"):\n",
        "        id_map[name] = id_\n",
        "      lhs_count, rhs_count = counter.pop(lhs_id, 0), counter.pop(rhs_id, 0)\n",
        "      counter[id_] = lhs_count + rhs_count\n",
        "  return counter\n",
        "\n",
        "counter = dict(john=15, jon=12, chris=13, kris=4, christopher=19)\n",
        "synonyms = ((\"jon\", \"john\"), (\"chris\", \"kris\"), (\"chris\", \"christopher\"))\n",
        "consolidate_baby_names(counter, synonyms)"
      ]
    },
    {
      "cell_type": "code",
      "execution_count": null,
      "metadata": {
        "id": "FYPj5AnCMjsV"
      },
      "outputs": [],
      "source": [
        "# @title ##### 17.8 Write a program to design a circus of the largest tower of people standing atop one another's shoulders. For practical and aesthetic reasons, each person must be both shorter and lighter than the person below him or her"
      ]
    },
    {
      "cell_type": "code",
      "execution_count": null,
      "metadata": {
        "id": "MTtB_0lWS3gy"
      },
      "outputs": [],
      "source": [
        "# @title ##### 17.9 Find the k-th number such that the only prime factors are 3, 5, and 7.\n",
        "def produce_prime_multiples(primes):  # 2, 3, 5\n",
        "  queues = [deque([p]) for p in primes]\n",
        "  while True:\n",
        "    yield (x := min(queue[0] for queue in queues))\n",
        "    for i, queue in enumerate(queues):\n",
        "      if x == queue[0]:\n",
        "        queue.popleft()\n",
        "      queue.append(x * primes[i])\n",
        "\n",
        "assert (3, 5, 7) == tuple(islice(produce_prime_multiples((3, 5, 7)), 3))\n",
        "assert (9, 15, 21, 25) == tuple(islice(produce_prime_multiples((3, 5, 7)), 3, 7))"
      ]
    },
    {
      "cell_type": "markdown",
      "metadata": {
        "id": "t1hWvrqDL0IA"
      },
      "source": [
        "!! **boyer_moore_majority** 17.10 Given an array of positive integers, determine the majority, if any. A majority is an element that occurs more than half the times in the array."
      ]
    },
    {
      "cell_type": "code",
      "execution_count": null,
      "metadata": {
        "id": "dj-0qdG2WlEA"
      },
      "outputs": [],
      "source": [
        "def boyer_moore_majority(L):\n",
        "  candidate, votes = None, 0\n",
        "  for e in L:\n",
        "    if votes==0:\n",
        "      candidate, votes = e, 1\n",
        "    elif e == candidate:\n",
        "      votes += 1\n",
        "    else:\n",
        "      votes -= 1\n",
        "  if L.count(candidate) > len(L) // 2:\n",
        "    return candidate\n",
        "\n",
        "cases = ([], [1], [1, 1, 2, 3], [1, 2, 1], [1, 2, 1, 2, 1])\n",
        "assert (None, 1, None, 1, 1) == tuple(map(boyer_moore_majority, cases))"
      ]
    },
    {
      "cell_type": "markdown",
      "metadata": {
        "id": "QLqhYiIitRk0"
      },
      "source": [
        "!! **shortest text snippet, shortest superset subarray, longest unique subarray**\n",
        "\n",
        "17.11 Find the shortest text snippet that contains K words out of a large text.  \n",
        "17.18 Find the shortest superset subarray that contains another shorter array -- https://leetcode.com/problems/minimum-window-substring"
      ]
    },
    {
      "cell_type": "code",
      "execution_count": null,
      "metadata": {
        "id": "ERFivHeZjnof"
      },
      "outputs": [],
      "source": [
        "def shortest_text_snippet(k_indices):  # O(L *logK), L: length of k indices.\n",
        "  # positions, e.g., [[0, 89, 130], [95, 123, 177, 199], [70, 105, 117]]\n",
        "  k_indices = [deque(e) for e in k_indices]\n",
        "  min_window = window = [e.popleft() for e in k_indices]  # [0, 95, 70]\n",
        "  heapify(heap := [(index, k) for k, index in enumerate(window)])\n",
        "  while k_indices[heap[0][1]]:  # k_indices[2] becomes empty after 117.\n",
        "    _, k = heappop(heap)\n",
        "    window[k] = k_indices[k].popleft()\n",
        "    min_window = min(min_window, window, key=lambda w: max(w) - min(w))\n",
        "    heappush(heap, (window[k], k))\n",
        "  return min_window\n",
        "\n",
        "k_word_indices = [[0, 89, 130], [95, 123, 177, 199], [70, 105, 117]]\n",
        "assert [130, 123, 117] == shortest_text_snippet(k_word_indices)"
      ]
    },
    {
      "cell_type": "code",
      "execution_count": null,
      "metadata": {
        "id": "0kXfHSv8o-Ay"
      },
      "outputs": [],
      "source": [
        "# @title ##### 17.12 Write a program to convert a binary search tree to a doubly linked list. Keep the values in order while converting in-place.\n",
        "def dlist_from_bst(tree):  # returns tuple(head, tail).\n",
        "  it = iterate(tree)\n",
        "  head = pred = next(it)\n",
        "  for tree in it:\n",
        "    tree.left, pred.right = pred, tree\n",
        "    pred = tree\n",
        "  return head, tree\n",
        "\n",
        "def iterate_east(dlist):\n",
        "  while dlist:\n",
        "    yield dlist\n",
        "    dlist = dlist.right\n",
        "\n",
        "def iterate_west(dlist):\n",
        "  while dlist:\n",
        "    yield dlist\n",
        "    dlist = dlist.left\n",
        "\n",
        "head, tail = dlist_from_bst(BTree.from_values(range(10)))\n",
        "head, tail\n",
        "assert (0, 1, 2, 3, 4, 5, 6, 7, 8, 9) == tuple(e.data for e in iterate_east(head))\n",
        "assert (9, 8, 7, 6, 5, 4, 3, 2, 1, 0) == tuple(e.data for e in iterate_west(tail))"
      ]
    },
    {
      "cell_type": "code",
      "execution_count": null,
      "metadata": {
        "id": "KWp3yPI70U-Q"
      },
      "outputs": [],
      "source": [
        "# @title ##### 4.3 Given a binary tree, design an algorithm to creates a linked list of all the nodes at each depth.\n",
        "# If you have a tree with depth D, you will have D linked lists.\n",
        "def dlist_from_binary_tree(tree):  # a tree of depth d.\n",
        "  q_next = deque([tree])\n",
        "  while q_next:\n",
        "    q, q_next = q_next, deque()\n",
        "    for i, e in enumerate(q):\n",
        "      for c in (e.left, e.right):\n",
        "        if c:\n",
        "          q_next.append(c)\n",
        "      e.left = None if i==0 else q[i-1]\n",
        "      e.right = q[i+1] if i < len(q)-1 else None\n",
        "    yield q[0]\n",
        "\n",
        "t10 = BTree.from_values(range(10))\n",
        "assert ([[4], [1, 7], [0, 2, 5, 8], [3, 6, 9]]  #\n",
        "        == [[e.data for e in iterate_east(L)] for L in dlist_from_binary_tree(t10)])"
      ]
    },
    {
      "cell_type": "code",
      "execution_count": null,
      "metadata": {
        "id": "-tSgJJ7eyIMX"
      },
      "outputs": [],
      "source": [
        "# @title ##### 17.13 Given a text with all spaces, punctuation, and capitalization removed, e.g., \"iresetthecomputeri tstilldidntboot\" from \"I reset the computer. It still didn’t boot!\". Respace the text while keeping most letters recognizable. Don't worry about capitalization or punctuation for now.\n",
        "def re_space(text, vocas):\n",
        "  from functools import lru_cache\n",
        "  vocas = dict.fromkeys(sorted(vocas, key=len, reverse=True))\n",
        "  recap = lambda kv, k, v: (kv[0] + k, kv[1] + v)  # recap of (minutes, sequence).\n",
        "  oov_loss = lambda n, m: 0 if text[n:m] in vocas else m - n  # out-of-voca. loss.\n",
        "\n",
        "  @lru_cache(maxsize=None)\n",
        "  def prog(m):\n",
        "    if m>0:\n",
        "      m_cases = [recap(prog(n), oov_loss(n, m), (m,)) for n in range(m-1, -1, -1)]\n",
        "      return min(m_cases, key=lambda e: e[0])\n",
        "    else:\n",
        "      return (0, ())\n",
        "\n",
        "  rubbish, stops = prog(len(text))\n",
        "  compose = lambda c: (text[i>0 and c[i-1]:stop] for i, stop in enumerate(c))\n",
        "  return rubbish, \" \".join(compose(stops))\n",
        "\n",
        "vocas = [\"you\", \"reset\", \"the\", \"computer\", \"still\", \"didnt\", \"boot\"]\n",
        "text = \"youresetthecomputeritstilldidntboot\"\n",
        "assert (2, \"you reset the computer i t still didnt boot\") == re_space(text, vocas)"
      ]
    },
    {
      "cell_type": "code",
      "execution_count": null,
      "metadata": {
        "id": "xYPLcTXfsgKH"
      },
      "outputs": [],
      "source": [
        "# @title ##### 17.14 Write a program to find the smallest million numbers in billion numbers. Your computer can hold all one billion numbers.\n",
        "# http://en.wikipedia.org/wiki/Selection_algorithm#Optimised_sorting_algorithms\n",
        "def quickfind_k(L, k=0, start=0, stop=None, key=lambda e: e, sort=False):\n",
        "  if stop is None:\n",
        "    stop = len(L)\n",
        "  if stop - start>1:\n",
        "    pivot = partition(L, start, stop, key)\n",
        "    if k < pivot or sort:\n",
        "      quickfind_k(L, k, start, pivot, key, sort)\n",
        "    if pivot < k:\n",
        "      quickfind_k(L, k, pivot+1, stop, key, sort)\n",
        "  return L\n",
        "\n",
        "def partition(L, start, stop, key=lambda e: e):\n",
        "  pivot = start + random.randrange(stop - start)\n",
        "  L[pivot], L[start] = L[start], L[pivot]\n",
        "  pivot = start\n",
        "  for i in range(start+1, stop):\n",
        "    if key(L[i]) < key(L[start]):\n",
        "      pivot += 1\n",
        "      L[pivot], L[i] = L[i], L[pivot]\n",
        "  L[pivot], L[start] = L[start], L[pivot]\n",
        "  return pivot\n",
        "\n",
        "quicksort_k = partial(quickfind_k, sort=True)\n",
        "assert [0, 1] == quickfind_k([9, 8, 7, 6, 5, 4, 3, 2, 1, 0], 1)[:2]\n",
        "assert 2 == quickfind_k([9, 8, 7, 6, 5, 4, 3, 2, 1, 0], 2)[2]\n",
        "assert 3 == quickfind_k([9, 8, 7, 6, 5, 4, 3, 2, 1, 0], 3)[3]\n",
        "\n",
        "for _ in range(1000):\n",
        "  L = [9, 8, 7, 6, 5, 4, 3, 2, 1, 0]\n",
        "  # fisher_yates_shuffle(L)\n",
        "  L = quicksort_k(L, 3)\n",
        "  if [0, 1, 2, 3] != L[:4]:\n",
        "    print(f\"{L=}\")"
      ]
    },
    {
      "cell_type": "code",
      "execution_count": null,
      "metadata": {
        "id": "B8_-LMtLsgNg"
      },
      "outputs": [],
      "source": [
        "# @title ##### 17.15 Longest Word: Given a list of words, write a program to find the longest word made of other words in the list.\n",
        "def longest_composition(L):\n",
        "  vocas = dict.fromkeys(sorted(L, key=len, reverse=True))\n",
        "  @lru_cache(maxsize=None)\n",
        "  def prog(word, m):\n",
        "    if m > 0:\n",
        "      n = next((n for n in range(m - 1, 0, -1) if word[n:m] in vocas), None)\n",
        "      if n:\n",
        "        if word[:n] in vocas:\n",
        "          yield (n, m)\n",
        "        else:\n",
        "          yield from (e + (m,) for e in prog(word, n))\n",
        "    else:\n",
        "      yield ()\n",
        "  compose = lambda c: [word[i > 0 and c[i - 1] : stop] for i, stop in enumerate(c)]\n",
        "  for word in vocas:\n",
        "    yield from (compose(stops) for stops in prog(word, len(word)))\n",
        "\n",
        "L =  [\"cat\", \"cats\", \"catdogcats\", \"catcats\", \"dog\", \"dogcatsdog\", \"ratcatdogcats\"]  # fmt: skip\n",
        "assert [\"cat\", \"dog\", \"cats\"] == next(longest_composition(L), None)"
      ]
    },
    {
      "cell_type": "code",
      "execution_count": null,
      "metadata": {
        "id": "4FP7CcezItYo"
      },
      "outputs": [],
      "source": [
        "# @title ##### 17.16 A popular masseuse receives a sequence of back-to-back appointment requests and is debating which ones to accept. She needs a 15-minute break between appointments and therefore she cannot accept any adjacent requests. Given a sequence of back-to-back appointment requests (all multiples of 15 minutes, none overlap, and none can be moved), find the optimal (highest total booked minutes) set the masseuse can honor. Return the number of minutes.\n",
        "def masseuse(L):  # L: massage appointmts in minutes.\n",
        "  recap = lambda kv, k, v: (kv[0] + k, kv[1] + v)  # recap of (minutes, sequence).\n",
        "  def prog(n):  # n appts. to process.\n",
        "    if n>0:\n",
        "      key, value = L[n-1], (n-1,)  # key: minutes, value: seq. of decisions.\n",
        "      cases = (recap(prog(n-2), key, value), recap(prog(n-1), 0, ()))\n",
        "      return max(cases, key=lambda e: e[0])\n",
        "    else:  # no appts. to process.\n",
        "      return 0, ()\n",
        "\n",
        "  return prog(len(L))\n",
        "\n",
        "L = [30, 15, 60, 75, 45, 15, 15, 45]  # a list of appointmts.\n",
        "minutes, indices = masseuse(L)\n",
        "assert (180, (30, 60, 45, 45)) == (minutes, tuple(L[i] for i in indices))"
      ]
    },
    {
      "cell_type": "markdown",
      "metadata": {
        "id": "9mni9ln2vNDU"
      },
      "source": [
        "!! **rabin karp's string match in O(m+n)** Find all indices of a pattern in a long text, \"ana\" in \"banana anaconda eats\"."
      ]
    },
    {
      "cell_type": "code",
      "execution_count": null,
      "metadata": {
        "id": "dm69JQwXvL5J"
      },
      "outputs": [],
      "source": [
        "# rabin karp's string match in O(m+n), not naive O(m x n) -- pattern(m), text(n).\n",
        "def rabin_karp(pattern, text):\n",
        "  def _hash(text, start, stop, hash=None):  # O(m), or O(1).\n",
        "    if hash is None:\n",
        "      return reduce(lambda h, c: h*31 + c, text[start:stop], 0)  # O(m).\n",
        "\n",
        "    hash = (hash<<5) - hash\n",
        "    new, old = text[stop-1], text[start-1]  # new and old character code points.\n",
        "    return hash + new - old * 31**(stop - start)  # O(1).\n",
        "\n",
        "  (pttn, m), (text, n) = ((tuple(map(ord, e)), len(e)) for e in (pattern, text))\n",
        "  hash_p = _hash(pttn, 0, m)\n",
        "  hash_t = None  # e.g., hash(text, 0, m)\n",
        "  for i_text in range(n - m+1):\n",
        "    hash_t = _hash(text, i_text, i_text + m, hash_t)\n",
        "    if hash_p == hash_t and pttn == text[i_text:i_text + m]:\n",
        "      yield i_text\n",
        "\n",
        "assert (1, 3, 10) == tuple(rabin_karp(\"ana\", \"banana an anaconda eats.\"))"
      ]
    },
    {
      "cell_type": "code",
      "execution_count": null,
      "metadata": {
        "id": "0zgTNje7I6hS"
      },
      "outputs": [],
      "source": [
        "# @title ##### 17.17 Given a text T and a set of queries Q, write a program to search T for each query in Q.\n",
        "# Related: the longest common substrings to a set of queries Q.\n",
        "class Trie:\n",
        "  def __init__(self, value=None, **_):\n",
        "    self.value, self.children = value, defaultdict(lambda: Trie())\n",
        "  def __setitem__(self, key, child):\n",
        "    if len(key)>1:\n",
        "      self.children[key[0]][key[1:]] = child\n",
        "    else:\n",
        "      self.children[key[0]] = child if isinstance(child, Trie) else Trie(child)\n",
        "  def __getitem__(self, key):\n",
        "    return (c := self.children.get(key[0], None)) and c[key[1:]] if key else self\n",
        "  def values(self):\n",
        "    if self.value is not None:\n",
        "      yield self.value\n",
        "    for child in self.children.values():\n",
        "      yield from child.values()\n",
        "\n",
        "Trie.__repr__ = pp\n",
        "s, suffs = \"bananas\", Trie()  # a suffix tree is a trie of all the suffixes.\n",
        "for i, _ in enumerate(s):\n",
        "  suffs[s[i:]] = i\n",
        "#\n",
        "L = \"ba na nas s bas\".split(\" \")\n",
        "expected = [[0], [2, 4], [4], [6], None]\n",
        "assert expected == [(t := suffs[q]) and list(t.values()) for q in L]\n",
        "# Trie for autocomplete\n",
        "trie = Trie()\n",
        "vocabs = [\"brace\", \"brazil\", \"bread\", \"brew\", \"brag\"]\n",
        "for i, e in enumerate(vocabs):\n",
        "  trie[e] = i  # or Trie(i).\n",
        "#\n",
        "assert (0, 1, 4) == tuple(trie[\"bra\"].values())  # see the words with prefix `bra`\n",
        "assert (2, 3) == tuple(trie[\"bre\"].values())  # see the words with prefix `bre`."
      ]
    },
    {
      "cell_type": "markdown",
      "metadata": {
        "id": "t9yMJXOTRs3n"
      },
      "source": [
        "17.19 Given an integer array from 1 to N appearing exactly once,\n",
        "except for one number that is missing. How can you find the missing number in O(N) time and 0(1) space? What if there were two numbers missing?"
      ]
    },
    {
      "cell_type": "markdown",
      "metadata": {
        "id": "I0aLybDpUyec"
      },
      "source": [
        "17.20 Write a program that can quickly answer a median value, while random numbers are being generated and offered (a median bag)."
      ]
    },
    {
      "cell_type": "markdown",
      "source": [
        "17.22 Given two words of equal length that are in a dictionary, write a method to transform one word into another word by changing only one letter at a time. The new word you get in each step must be in the dictionary."
      ],
      "metadata": {
        "id": "2aYnDj_4eanb"
      }
    },
    {
      "cell_type": "markdown",
      "metadata": {
        "id": "Fv267rJyM2SL"
      },
      "source": [
        "!! **maxsum submatrix, maxsum subarray, largest subsquare**\n",
        "\n",
        "17.24 Given a square matrix of integers, write a program to find a sub-matrix with the largest sum.\n",
        "\n",
        "17.23 Given a square matrix of black and white cells, write a program to find the maximum sub-square such that all four borders are filled with black pixels.\n",
        "\n"
      ]
    },
    {
      "cell_type": "code",
      "execution_count": null,
      "metadata": {
        "id": "CsW8WJg4NV72"
      },
      "outputs": [],
      "source": [
        "def slice_maxsum_submatrix(g):\n",
        "  cumsum_v = (accumulate(c, initial=0) for c in zip(*g))\n",
        "  cumsum = tuple(tuple(accumulate(r, initial=0)) for r in zip(*cumsum_v))\n",
        "  sum_2d = lambda start_r, start_c, stop_r, stop_c: (\n",
        "      cumsum[stop_r][stop_c] - cumsum[stop_r][start_c] - cumsum[start_r][stop_c] +\n",
        "      cumsum[start_r][start_c])\n",
        "\n",
        "  # yield (0, (0, 0, 0, 0))\n",
        "  m, n = len(g), len(g[0])  # this loop runs in O(m x n) time given an m x n graph.\n",
        "  for stop_r in range(1, m+1):\n",
        "    for start_r in range(stop_r):\n",
        "      for stop_c in range(1, n+1):\n",
        "        for start_c in range(stop_c):\n",
        "          cut = start_r, start_c, stop_r, stop_c\n",
        "          yield sum_2d(*cut), cut\n",
        "\n",
        "# Kadane's algorithm http://en.wikipedia.org/wiki/maximum_subarray_problem\n",
        "def slice_maxsum_subarray(L):  # returns (maxsum, (start, stop)).\n",
        "  yield (sum_ := 0), (0, 0)\n",
        "  for stop, e in enumerate(L, 1):\n",
        "    if sum_>0:\n",
        "      sum_ = sum_ + e  # keep the sum running.\n",
        "    else:  # start over the sum running .\n",
        "      sum_, start = e, stop-1\n",
        "    yield sum_, (start, stop)\n",
        "\n",
        "g = [  # 4 x 3 matrix\n",
        "    [ 1,  0, 1],\n",
        "    [ 0, -1, 0],\n",
        "    [ 1,  0, 1],\n",
        "    [-5,  2, 5]\n",
        "]  # yapf:disable\n",
        "assert (5, (1, 8)) == max(slice_maxsum_subarray([-2, 1, 3, -3, 4, -2, -1, 3]))\n",
        "assert (9, (0, 3)) == max(slice_maxsum_subarray([9, -3, 3]))\n",
        "assert (9, (2, 3)) == max(slice_maxsum_subarray([3, -3, 9]))\n",
        "assert (0, (0, 0)) == max(slice_maxsum_subarray([-9]))\n",
        "assert (0, (0, 1)) == max(slice_maxsum_subarray([0]))\n",
        "assert (8, (2, 1, 4, 3)) == max(slice_maxsum_submatrix(g))\n",
        "assert (3, (0, 0, 1, 2)) == max(slice_maxsum_submatrix([\n",
        "    [ 1,  2, -1],\n",
        "    [-3, -1, -4],\n",
        "    [ 1, -5,  2]\n",
        "]))  # yapf:disable"
      ]
    },
    {
      "cell_type": "markdown",
      "metadata": {
        "id": "Q898SbYGMoH-"
      },
      "source": [
        "17.25 Given millions of words, write a program to create the largest possible rectangle of letters such that every row forms a word (reading left to right) and every column forms a word (reading top to bottom).\n",
        "\n"
      ]
    },
    {
      "cell_type": "code",
      "execution_count": null,
      "metadata": {
        "id": "saALdKfVkoz8"
      },
      "outputs": [],
      "source": [
        "def groupby(iterable, key=None, unique=False):\n",
        "  d = {}\n",
        "  if key is None:\n",
        "    key = lambda e: e\n",
        "  for e in iterable:\n",
        "    k = key(e)\n",
        "    if k in d:\n",
        "      if unique:\n",
        "        d[k].add(e)\n",
        "      else:\n",
        "        d[k].append(e)\n",
        "    else:\n",
        "      d[k] = set((e,)) if unique else [e]\n",
        "  return d\n",
        "\n",
        "def permutate(a, k=None, i=0):  # places values at indices from i to k-1.\n",
        "  if k is None:\n",
        "    k = len(a)\n",
        "  if i == k:\n",
        "    yield a[:k]\n",
        "  else:\n",
        "    for j in {a[j]: j for j in range(i, len(a))}.values():\n",
        "      a[i], a[j] = a[j], a[i]\n",
        "      yield from permutate(a, k, i + 1)\n",
        "      a[i], a[j] = a[j], a[i]\n",
        "\n",
        "assert {0: [2, 2], 1: [1, 3, 3, 3]} == groupby([1, 2, 2, 3, 3, 3], lambda e: e % 2)\n",
        "assert {3: {\"abc\", \"def\"}, 4: {\"wxyz\"}} == groupby([\"abc\", \"def\", \"wxyz\"], len, True)\n",
        "assert [[1, 1], [1, 2], [2, 1]] == sorted(permutate([1, 1, 2], 2))\n",
        "\n",
        "def rectangle(words):\n",
        "  d = groupby(words, len, unique=True)\n",
        "  n = max(d.keys())\n",
        "  area = n**2\n",
        "  for a in range(area, 0, -1):\n",
        "    for w in (w for w in range(n, 0, -1) if 0 == a % w):\n",
        "      h = a // w  # height is area divided by width\n",
        "      if w >= h and d.get(w) and len(d[w]) >= h:\n",
        "        for p in permutate(list(d[w]), h):\n",
        "          if all(\n",
        "            (\"\".join((p[r][c] for r in range(h))) in d[h] for c in range(w))\n",
        "          ):\n",
        "            return p\n",
        "\n",
        "words = set(\"a cat ate tea strafer taeniae resters antiflu fiefdom earlobe resumes schools coconut acacias oracle largest fingernails\".split(\" \"))  # fmt: skip\n",
        "assert 7 == len(rectangle(words))"
      ]
    },
    {
      "cell_type": "markdown",
      "source": [
        "17.26 Sparse Similarity: The similarity of two documents (each with distinct words) is defined to be the size of the intersection divided by the size of the union. For example, if the documents consist of integers, the similarity of {1, 5, 3} and { 1, 7, 2, 3} is 0. 4, because the intersection has size 2 and the union has size 5. We have a long list of documents (with distinct values and each with an associated ID) where the similarity is believed to be \"sparse:'That is, any two arbitrarily selected documents are very likely to have similarity O. Design an algorithm that returns a list of pairs of document IDs and the associated similarity. Print only the pairs with similarity greater than 0. Empty documents should not be printed at all. For simplicity, you may assume each document is represented as an array of distinct integers.  \n",
        "EXAMPLE nput:\n",
        "* 13: {14, 15, 100, 9, 3}\n",
        "* 16: {32, 1, 9, 3, 5}\n",
        "* 19: {15, 29, 2, 6, 8, 7}\n",
        "* 24: {7, 10}\n",
        "\n",
        "ID1 | ID2 | SIMILARITY\n",
        "-- | -- | --\n",
        "13 | 19 | 0.1\n",
        "13 | 16 | 0.25\n",
        "19 | 24 | 0.143\n"
      ],
      "metadata": {
        "id": "Gd11qJKZ5T1i"
      }
    }
  ],
  "metadata": {
    "colab": {
      "provenance": []
    },
    "kernelspec": {
      "display_name": "Python 3",
      "name": "python3"
    },
    "language_info": {
      "name": "python"
    }
  },
  "nbformat": 4,
  "nbformat_minor": 0
}